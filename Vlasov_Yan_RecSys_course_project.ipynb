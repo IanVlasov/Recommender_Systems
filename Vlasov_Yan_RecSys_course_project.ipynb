{
 "cells": [
  {
   "cell_type": "markdown",
   "metadata": {},
   "source": [
    "### Финальный проект\n",
    "\n",
    "- Целевая метрика - money precision@5. Порог для уcпешной сдачи проекта money precision@5 > 20%\n",
    "\n",
    "Бизнес ограничения в топ-5 товарах:\n",
    "- Для каждого юзера 5 рекомендаций (иногда модели могут возвращать < 5)\n",
    "- **2 новых товара** (юзер никогда не покупал)\n",
    "- **1 дорогой товар > 7 долларов**\n",
    "- **Все товары из разных категорий** (категория - sub_commodity_desc)  \n",
    "- **Стоимость каждого рекомендованного товара > 1 доллара**  \n",
    "\n",
    "- Будет public тестовый датасет, на котором вы сможете измерять метрику\n",
    "- Также будет private тестовый датасет для измерения финального качества\n",
    "- НЕ обязательно использовать 2-ух уровневые рекоммендательные системы в проекте\n",
    "- Вы сдаете код проекта в виде github репозитория и .csv файл с рекомендациями. В .csv файле 2 столбца: user_id - (item_id1, item_id2, ..., item_id5)"
   ]
  },
  {
   "cell_type": "code",
   "execution_count": 1,
   "metadata": {},
   "outputs": [],
   "source": [
    "import pandas as pd\n",
    "import numpy as np\n",
    "import matplotlib.pyplot as plt\n",
    "%matplotlib inline\n",
    "\n",
    "import os, sys\n",
    "module_path = os.path.abspath(os.path.join(os.curdir))\n",
    "if module_path not in sys.path:\n",
    "    sys.path.append(module_path)\n",
    "\n",
    "# Написанные нами функции\n",
    "from src.metrics import money_precision_at_k, mean_money_precision_at_k, get_prices\n",
    "from src.utils import prefilter_items, create_prices_df\n",
    "from src.recommenders import MainRecommender\n",
    "\n",
    "%load_ext autoreload\n",
    "%autoreload"
   ]
  },
  {
   "cell_type": "code",
   "execution_count": 2,
   "metadata": {},
   "outputs": [],
   "source": [
    "data = pd.read_csv('./raw_data/retail_train.csv')\n",
    "item_features = pd.read_csv('./raw_data/product.csv')\n",
    "user_features = pd.read_csv('./raw_data/hh_demographic.csv')\n",
    "\n",
    "# column processing\n",
    "item_features.columns = [col.lower() for col in item_features.columns]\n",
    "user_features.columns = [col.lower() for col in user_features.columns]\n",
    "\n",
    "item_features.rename(columns={'product_id': 'item_id'}, inplace=True)\n",
    "user_features.rename(columns={'household_key': 'user_id'}, inplace=True)\n"
   ]
  },
  {
   "cell_type": "code",
   "execution_count": 3,
   "metadata": {},
   "outputs": [
    {
     "data": {
      "text/html": [
       "<div>\n",
       "<style scoped>\n",
       "    .dataframe tbody tr th:only-of-type {\n",
       "        vertical-align: middle;\n",
       "    }\n",
       "\n",
       "    .dataframe tbody tr th {\n",
       "        vertical-align: top;\n",
       "    }\n",
       "\n",
       "    .dataframe thead th {\n",
       "        text-align: right;\n",
       "    }\n",
       "</style>\n",
       "<table border=\"1\" class=\"dataframe\">\n",
       "  <thead>\n",
       "    <tr style=\"text-align: right;\">\n",
       "      <th></th>\n",
       "      <th>user_id</th>\n",
       "      <th>basket_id</th>\n",
       "      <th>day</th>\n",
       "      <th>item_id</th>\n",
       "      <th>quantity</th>\n",
       "      <th>sales_value</th>\n",
       "      <th>store_id</th>\n",
       "      <th>retail_disc</th>\n",
       "      <th>trans_time</th>\n",
       "      <th>week_no</th>\n",
       "      <th>coupon_disc</th>\n",
       "      <th>coupon_match_disc</th>\n",
       "    </tr>\n",
       "  </thead>\n",
       "  <tbody>\n",
       "    <tr>\n",
       "      <th>0</th>\n",
       "      <td>2375</td>\n",
       "      <td>26984851472</td>\n",
       "      <td>1</td>\n",
       "      <td>1004906</td>\n",
       "      <td>1</td>\n",
       "      <td>1.39</td>\n",
       "      <td>364</td>\n",
       "      <td>-0.60</td>\n",
       "      <td>1631</td>\n",
       "      <td>1</td>\n",
       "      <td>0.0</td>\n",
       "      <td>0.0</td>\n",
       "    </tr>\n",
       "    <tr>\n",
       "      <th>1</th>\n",
       "      <td>2375</td>\n",
       "      <td>26984851472</td>\n",
       "      <td>1</td>\n",
       "      <td>1033142</td>\n",
       "      <td>1</td>\n",
       "      <td>0.82</td>\n",
       "      <td>364</td>\n",
       "      <td>0.00</td>\n",
       "      <td>1631</td>\n",
       "      <td>1</td>\n",
       "      <td>0.0</td>\n",
       "      <td>0.0</td>\n",
       "    </tr>\n",
       "    <tr>\n",
       "      <th>2</th>\n",
       "      <td>2375</td>\n",
       "      <td>26984851472</td>\n",
       "      <td>1</td>\n",
       "      <td>1036325</td>\n",
       "      <td>1</td>\n",
       "      <td>0.99</td>\n",
       "      <td>364</td>\n",
       "      <td>-0.30</td>\n",
       "      <td>1631</td>\n",
       "      <td>1</td>\n",
       "      <td>0.0</td>\n",
       "      <td>0.0</td>\n",
       "    </tr>\n",
       "    <tr>\n",
       "      <th>3</th>\n",
       "      <td>2375</td>\n",
       "      <td>26984851472</td>\n",
       "      <td>1</td>\n",
       "      <td>1082185</td>\n",
       "      <td>1</td>\n",
       "      <td>1.21</td>\n",
       "      <td>364</td>\n",
       "      <td>0.00</td>\n",
       "      <td>1631</td>\n",
       "      <td>1</td>\n",
       "      <td>0.0</td>\n",
       "      <td>0.0</td>\n",
       "    </tr>\n",
       "    <tr>\n",
       "      <th>4</th>\n",
       "      <td>2375</td>\n",
       "      <td>26984851472</td>\n",
       "      <td>1</td>\n",
       "      <td>8160430</td>\n",
       "      <td>1</td>\n",
       "      <td>1.50</td>\n",
       "      <td>364</td>\n",
       "      <td>-0.39</td>\n",
       "      <td>1631</td>\n",
       "      <td>1</td>\n",
       "      <td>0.0</td>\n",
       "      <td>0.0</td>\n",
       "    </tr>\n",
       "  </tbody>\n",
       "</table>\n",
       "</div>"
      ],
      "text/plain": [
       "   user_id    basket_id  day  item_id  quantity  sales_value  store_id  \\\n",
       "0     2375  26984851472    1  1004906         1         1.39       364   \n",
       "1     2375  26984851472    1  1033142         1         0.82       364   \n",
       "2     2375  26984851472    1  1036325         1         0.99       364   \n",
       "3     2375  26984851472    1  1082185         1         1.21       364   \n",
       "4     2375  26984851472    1  8160430         1         1.50       364   \n",
       "\n",
       "   retail_disc  trans_time  week_no  coupon_disc  coupon_match_disc  \n",
       "0        -0.60        1631        1          0.0                0.0  \n",
       "1         0.00        1631        1          0.0                0.0  \n",
       "2        -0.30        1631        1          0.0                0.0  \n",
       "3         0.00        1631        1          0.0                0.0  \n",
       "4        -0.39        1631        1          0.0                0.0  "
      ]
     },
     "execution_count": 3,
     "metadata": {},
     "output_type": "execute_result"
    }
   ],
   "source": [
    "data.head()"
   ]
  },
  {
   "cell_type": "code",
   "execution_count": 4,
   "metadata": {
    "scrolled": false
   },
   "outputs": [
    {
     "data": {
      "text/html": [
       "<div>\n",
       "<style scoped>\n",
       "    .dataframe tbody tr th:only-of-type {\n",
       "        vertical-align: middle;\n",
       "    }\n",
       "\n",
       "    .dataframe tbody tr th {\n",
       "        vertical-align: top;\n",
       "    }\n",
       "\n",
       "    .dataframe thead th {\n",
       "        text-align: right;\n",
       "    }\n",
       "</style>\n",
       "<table border=\"1\" class=\"dataframe\">\n",
       "  <thead>\n",
       "    <tr style=\"text-align: right;\">\n",
       "      <th></th>\n",
       "      <th>item_id</th>\n",
       "      <th>manufacturer</th>\n",
       "      <th>department</th>\n",
       "      <th>brand</th>\n",
       "      <th>commodity_desc</th>\n",
       "      <th>sub_commodity_desc</th>\n",
       "      <th>curr_size_of_product</th>\n",
       "    </tr>\n",
       "  </thead>\n",
       "  <tbody>\n",
       "    <tr>\n",
       "      <th>0</th>\n",
       "      <td>25671</td>\n",
       "      <td>2</td>\n",
       "      <td>GROCERY</td>\n",
       "      <td>National</td>\n",
       "      <td>FRZN ICE</td>\n",
       "      <td>ICE - CRUSHED/CUBED</td>\n",
       "      <td>22 LB</td>\n",
       "    </tr>\n",
       "    <tr>\n",
       "      <th>1</th>\n",
       "      <td>26081</td>\n",
       "      <td>2</td>\n",
       "      <td>MISC. TRANS.</td>\n",
       "      <td>National</td>\n",
       "      <td>NO COMMODITY DESCRIPTION</td>\n",
       "      <td>NO SUBCOMMODITY DESCRIPTION</td>\n",
       "      <td></td>\n",
       "    </tr>\n",
       "    <tr>\n",
       "      <th>2</th>\n",
       "      <td>26093</td>\n",
       "      <td>69</td>\n",
       "      <td>PASTRY</td>\n",
       "      <td>Private</td>\n",
       "      <td>BREAD</td>\n",
       "      <td>BREAD:ITALIAN/FRENCH</td>\n",
       "      <td></td>\n",
       "    </tr>\n",
       "    <tr>\n",
       "      <th>3</th>\n",
       "      <td>26190</td>\n",
       "      <td>69</td>\n",
       "      <td>GROCERY</td>\n",
       "      <td>Private</td>\n",
       "      <td>FRUIT - SHELF STABLE</td>\n",
       "      <td>APPLE SAUCE</td>\n",
       "      <td>50 OZ</td>\n",
       "    </tr>\n",
       "    <tr>\n",
       "      <th>4</th>\n",
       "      <td>26355</td>\n",
       "      <td>69</td>\n",
       "      <td>GROCERY</td>\n",
       "      <td>Private</td>\n",
       "      <td>COOKIES/CONES</td>\n",
       "      <td>SPECIALTY COOKIES</td>\n",
       "      <td>14 OZ</td>\n",
       "    </tr>\n",
       "  </tbody>\n",
       "</table>\n",
       "</div>"
      ],
      "text/plain": [
       "   item_id  manufacturer    department     brand            commodity_desc  \\\n",
       "0    25671             2       GROCERY  National                  FRZN ICE   \n",
       "1    26081             2  MISC. TRANS.  National  NO COMMODITY DESCRIPTION   \n",
       "2    26093            69        PASTRY   Private                     BREAD   \n",
       "3    26190            69       GROCERY   Private      FRUIT - SHELF STABLE   \n",
       "4    26355            69       GROCERY   Private             COOKIES/CONES   \n",
       "\n",
       "            sub_commodity_desc curr_size_of_product  \n",
       "0          ICE - CRUSHED/CUBED                22 LB  \n",
       "1  NO SUBCOMMODITY DESCRIPTION                       \n",
       "2         BREAD:ITALIAN/FRENCH                       \n",
       "3                  APPLE SAUCE                50 OZ  \n",
       "4            SPECIALTY COOKIES                14 OZ  "
      ]
     },
     "execution_count": 4,
     "metadata": {},
     "output_type": "execute_result"
    }
   ],
   "source": [
    "item_features.head()"
   ]
  },
  {
   "cell_type": "markdown",
   "metadata": {},
   "source": [
    "### Разделение train-val"
   ]
  },
  {
   "cell_type": "markdown",
   "metadata": {},
   "source": [
    "Чтобы корректно разделить датасеты посмотрим на public test"
   ]
  },
  {
   "cell_type": "code",
   "execution_count": 5,
   "metadata": {},
   "outputs": [],
   "source": [
    "data_public_test = pd.read_csv('./raw_data/retail_test.csv')"
   ]
  },
  {
   "cell_type": "code",
   "execution_count": 6,
   "metadata": {},
   "outputs": [
    {
     "data": {
      "text/plain": [
       "array([96, 97, 98])"
      ]
     },
     "execution_count": 6,
     "metadata": {},
     "output_type": "execute_result"
    }
   ],
   "source": [
    "data_public_test['week_no'].unique()"
   ]
  },
  {
   "cell_type": "markdown",
   "metadata": {},
   "source": [
    "В паблик тесте присутствуют данные за 3 недели. Сформируем для дальнейшего исследования аналогичный валидационный датасет"
   ]
  },
  {
   "cell_type": "code",
   "execution_count": 7,
   "metadata": {},
   "outputs": [],
   "source": [
    "test_size_weeks = 3"
   ]
  },
  {
   "cell_type": "code",
   "execution_count": 8,
   "metadata": {},
   "outputs": [],
   "source": [
    "data_train = data.loc[(data['week_no'] <= data['week_no'].max() - test_size_weeks)]\n",
    "data_val = data.loc[(data['week_no'] > data['week_no'].max() - test_size_weeks)]"
   ]
  },
  {
   "cell_type": "markdown",
   "metadata": {},
   "source": [
    "### Анализ для предфильтрации"
   ]
  },
  {
   "cell_type": "markdown",
   "metadata": {},
   "source": [
    "**0. Транзакции с нулевой стоимостью и количеством**"
   ]
  },
  {
   "cell_type": "markdown",
   "metadata": {},
   "source": [
    "В датасете присутствует достаточно много строк с транзакциями, у которых стоимость и количество купленного товара равно 0. Избавимся от этих строк."
   ]
  },
  {
   "cell_type": "code",
   "execution_count": 9,
   "metadata": {},
   "outputs": [],
   "source": [
    "train_idx_todrop = data_train.loc[(data_train['quantity'] == 0) & (data_train['sales_value'] <= 0.1)].index\n",
    "test_idx_todrop = data_val.loc[(data_val['quantity'] == 0) & (data_val['sales_value'] <= 0.1)].index\n",
    "data_train = data_train.drop(index=train_idx_todrop, axis=0).reset_index()\n",
    "data_val = data_val.drop(index=test_idx_todrop, axis=0).reset_index()"
   ]
  },
  {
   "cell_type": "code",
   "execution_count": 10,
   "metadata": {
    "scrolled": true
   },
   "outputs": [
    {
     "data": {
      "text/html": [
       "<div>\n",
       "<style scoped>\n",
       "    .dataframe tbody tr th:only-of-type {\n",
       "        vertical-align: middle;\n",
       "    }\n",
       "\n",
       "    .dataframe tbody tr th {\n",
       "        vertical-align: top;\n",
       "    }\n",
       "\n",
       "    .dataframe thead th {\n",
       "        text-align: right;\n",
       "    }\n",
       "</style>\n",
       "<table border=\"1\" class=\"dataframe\">\n",
       "  <thead>\n",
       "    <tr style=\"text-align: right;\">\n",
       "      <th></th>\n",
       "      <th>index</th>\n",
       "      <th>user_id</th>\n",
       "      <th>basket_id</th>\n",
       "      <th>day</th>\n",
       "      <th>item_id</th>\n",
       "      <th>quantity</th>\n",
       "      <th>sales_value</th>\n",
       "      <th>store_id</th>\n",
       "      <th>retail_disc</th>\n",
       "      <th>trans_time</th>\n",
       "      <th>week_no</th>\n",
       "      <th>coupon_disc</th>\n",
       "      <th>coupon_match_disc</th>\n",
       "    </tr>\n",
       "  </thead>\n",
       "  <tbody>\n",
       "    <tr>\n",
       "      <th>634624</th>\n",
       "      <td>637766</td>\n",
       "      <td>2035</td>\n",
       "      <td>30217406304</td>\n",
       "      <td>226</td>\n",
       "      <td>866871</td>\n",
       "      <td>0</td>\n",
       "      <td>5.82</td>\n",
       "      <td>298</td>\n",
       "      <td>0.0</td>\n",
       "      <td>1342</td>\n",
       "      <td>33</td>\n",
       "      <td>0.0</td>\n",
       "      <td>0.0</td>\n",
       "    </tr>\n",
       "    <tr>\n",
       "      <th>942106</th>\n",
       "      <td>946650</td>\n",
       "      <td>1907</td>\n",
       "      <td>31502778568</td>\n",
       "      <td>304</td>\n",
       "      <td>866858</td>\n",
       "      <td>0</td>\n",
       "      <td>0.50</td>\n",
       "      <td>369</td>\n",
       "      <td>0.0</td>\n",
       "      <td>1544</td>\n",
       "      <td>44</td>\n",
       "      <td>0.0</td>\n",
       "      <td>0.0</td>\n",
       "    </tr>\n",
       "  </tbody>\n",
       "</table>\n",
       "</div>"
      ],
      "text/plain": [
       "         index  user_id    basket_id  day  item_id  quantity  sales_value  \\\n",
       "634624  637766     2035  30217406304  226   866871         0         5.82   \n",
       "942106  946650     1907  31502778568  304   866858         0         0.50   \n",
       "\n",
       "        store_id  retail_disc  trans_time  week_no  coupon_disc  \\\n",
       "634624       298          0.0        1342       33          0.0   \n",
       "942106       369          0.0        1544       44          0.0   \n",
       "\n",
       "        coupon_match_disc  \n",
       "634624                0.0  \n",
       "942106                0.0  "
      ]
     },
     "execution_count": 10,
     "metadata": {},
     "output_type": "execute_result"
    }
   ],
   "source": [
    "data_train.loc[data_train['quantity'] == 0].head(2)"
   ]
  },
  {
   "cell_type": "markdown",
   "metadata": {},
   "source": [
    "Осталось некоторое количество строк с нулевым количеством, но ненулевой суммой покупки. Суммы достаточно низкие, поэтому заменим количество таких транзакций на 1"
   ]
  },
  {
   "cell_type": "code",
   "execution_count": 11,
   "metadata": {},
   "outputs": [],
   "source": [
    "data_train.loc[data_train['quantity'] == 0, 'quantity'] = 1\n",
    "data_val.loc[data_val['quantity'] == 0, 'quantity'] = 1"
   ]
  },
  {
   "cell_type": "code",
   "execution_count": 12,
   "metadata": {},
   "outputs": [
    {
     "data": {
      "text/html": [
       "<div>\n",
       "<style scoped>\n",
       "    .dataframe tbody tr th:only-of-type {\n",
       "        vertical-align: middle;\n",
       "    }\n",
       "\n",
       "    .dataframe tbody tr th {\n",
       "        vertical-align: top;\n",
       "    }\n",
       "\n",
       "    .dataframe thead th {\n",
       "        text-align: right;\n",
       "    }\n",
       "</style>\n",
       "<table border=\"1\" class=\"dataframe\">\n",
       "  <thead>\n",
       "    <tr style=\"text-align: right;\">\n",
       "      <th></th>\n",
       "      <th>index</th>\n",
       "      <th>user_id</th>\n",
       "      <th>basket_id</th>\n",
       "      <th>day</th>\n",
       "      <th>item_id</th>\n",
       "      <th>quantity</th>\n",
       "      <th>sales_value</th>\n",
       "      <th>store_id</th>\n",
       "      <th>retail_disc</th>\n",
       "      <th>trans_time</th>\n",
       "      <th>week_no</th>\n",
       "      <th>coupon_disc</th>\n",
       "      <th>coupon_match_disc</th>\n",
       "    </tr>\n",
       "  </thead>\n",
       "  <tbody>\n",
       "    <tr>\n",
       "      <th>761</th>\n",
       "      <td>766</td>\n",
       "      <td>2110</td>\n",
       "      <td>27009082349</td>\n",
       "      <td>3</td>\n",
       "      <td>837963</td>\n",
       "      <td>1</td>\n",
       "      <td>0.0</td>\n",
       "      <td>375</td>\n",
       "      <td>0.00</td>\n",
       "      <td>1547</td>\n",
       "      <td>1</td>\n",
       "      <td>0.0</td>\n",
       "      <td>0.0</td>\n",
       "    </tr>\n",
       "    <tr>\n",
       "      <th>991</th>\n",
       "      <td>996</td>\n",
       "      <td>568</td>\n",
       "      <td>27021090189</td>\n",
       "      <td>4</td>\n",
       "      <td>951412</td>\n",
       "      <td>1</td>\n",
       "      <td>0.0</td>\n",
       "      <td>446</td>\n",
       "      <td>-1.48</td>\n",
       "      <td>35</td>\n",
       "      <td>1</td>\n",
       "      <td>0.0</td>\n",
       "      <td>0.0</td>\n",
       "    </tr>\n",
       "    <tr>\n",
       "      <th>1089</th>\n",
       "      <td>1095</td>\n",
       "      <td>2110</td>\n",
       "      <td>27021248054</td>\n",
       "      <td>4</td>\n",
       "      <td>850115</td>\n",
       "      <td>1</td>\n",
       "      <td>0.0</td>\n",
       "      <td>375</td>\n",
       "      <td>-3.29</td>\n",
       "      <td>1705</td>\n",
       "      <td>1</td>\n",
       "      <td>0.0</td>\n",
       "      <td>0.0</td>\n",
       "    </tr>\n",
       "    <tr>\n",
       "      <th>1107</th>\n",
       "      <td>1113</td>\n",
       "      <td>2110</td>\n",
       "      <td>27021248054</td>\n",
       "      <td>4</td>\n",
       "      <td>976872</td>\n",
       "      <td>1</td>\n",
       "      <td>0.0</td>\n",
       "      <td>375</td>\n",
       "      <td>-2.49</td>\n",
       "      <td>1705</td>\n",
       "      <td>1</td>\n",
       "      <td>0.0</td>\n",
       "      <td>0.0</td>\n",
       "    </tr>\n",
       "    <tr>\n",
       "      <th>1155</th>\n",
       "      <td>1161</td>\n",
       "      <td>474</td>\n",
       "      <td>27021262361</td>\n",
       "      <td>4</td>\n",
       "      <td>940108</td>\n",
       "      <td>1</td>\n",
       "      <td>0.0</td>\n",
       "      <td>352</td>\n",
       "      <td>-1.19</td>\n",
       "      <td>2204</td>\n",
       "      <td>1</td>\n",
       "      <td>0.0</td>\n",
       "      <td>0.0</td>\n",
       "    </tr>\n",
       "    <tr>\n",
       "      <th>...</th>\n",
       "      <td>...</td>\n",
       "      <td>...</td>\n",
       "      <td>...</td>\n",
       "      <td>...</td>\n",
       "      <td>...</td>\n",
       "      <td>...</td>\n",
       "      <td>...</td>\n",
       "      <td>...</td>\n",
       "      <td>...</td>\n",
       "      <td>...</td>\n",
       "      <td>...</td>\n",
       "      <td>...</td>\n",
       "      <td>...</td>\n",
       "    </tr>\n",
       "    <tr>\n",
       "      <th>2295880</th>\n",
       "      <td>2308739</td>\n",
       "      <td>2343</td>\n",
       "      <td>41382912830</td>\n",
       "      <td>642</td>\n",
       "      <td>13910208</td>\n",
       "      <td>1</td>\n",
       "      <td>0.0</td>\n",
       "      <td>396</td>\n",
       "      <td>-6.99</td>\n",
       "      <td>1701</td>\n",
       "      <td>92</td>\n",
       "      <td>0.0</td>\n",
       "      <td>0.0</td>\n",
       "    </tr>\n",
       "    <tr>\n",
       "      <th>2296245</th>\n",
       "      <td>2309106</td>\n",
       "      <td>2345</td>\n",
       "      <td>41382953921</td>\n",
       "      <td>642</td>\n",
       "      <td>940207</td>\n",
       "      <td>1</td>\n",
       "      <td>0.0</td>\n",
       "      <td>450</td>\n",
       "      <td>-6.69</td>\n",
       "      <td>1708</td>\n",
       "      <td>92</td>\n",
       "      <td>0.0</td>\n",
       "      <td>0.0</td>\n",
       "    </tr>\n",
       "    <tr>\n",
       "      <th>2296839</th>\n",
       "      <td>2309702</td>\n",
       "      <td>232</td>\n",
       "      <td>41383029591</td>\n",
       "      <td>642</td>\n",
       "      <td>1122250</td>\n",
       "      <td>1</td>\n",
       "      <td>0.0</td>\n",
       "      <td>34280</td>\n",
       "      <td>-3.99</td>\n",
       "      <td>1417</td>\n",
       "      <td>92</td>\n",
       "      <td>0.0</td>\n",
       "      <td>0.0</td>\n",
       "    </tr>\n",
       "    <tr>\n",
       "      <th>2298243</th>\n",
       "      <td>2311114</td>\n",
       "      <td>22</td>\n",
       "      <td>41383302099</td>\n",
       "      <td>642</td>\n",
       "      <td>16769972</td>\n",
       "      <td>1</td>\n",
       "      <td>0.0</td>\n",
       "      <td>365</td>\n",
       "      <td>-4.95</td>\n",
       "      <td>1220</td>\n",
       "      <td>92</td>\n",
       "      <td>0.0</td>\n",
       "      <td>0.0</td>\n",
       "    </tr>\n",
       "    <tr>\n",
       "      <th>2298341</th>\n",
       "      <td>2311212</td>\n",
       "      <td>611</td>\n",
       "      <td>41383311854</td>\n",
       "      <td>642</td>\n",
       "      <td>16769554</td>\n",
       "      <td>1</td>\n",
       "      <td>0.0</td>\n",
       "      <td>389</td>\n",
       "      <td>-3.99</td>\n",
       "      <td>1210</td>\n",
       "      <td>92</td>\n",
       "      <td>0.0</td>\n",
       "      <td>0.0</td>\n",
       "    </tr>\n",
       "  </tbody>\n",
       "</table>\n",
       "<p>4007 rows × 13 columns</p>\n",
       "</div>"
      ],
      "text/plain": [
       "           index  user_id    basket_id  day   item_id  quantity  sales_value  \\\n",
       "761          766     2110  27009082349    3    837963         1          0.0   \n",
       "991          996      568  27021090189    4    951412         1          0.0   \n",
       "1089        1095     2110  27021248054    4    850115         1          0.0   \n",
       "1107        1113     2110  27021248054    4    976872         1          0.0   \n",
       "1155        1161      474  27021262361    4    940108         1          0.0   \n",
       "...          ...      ...          ...  ...       ...       ...          ...   \n",
       "2295880  2308739     2343  41382912830  642  13910208         1          0.0   \n",
       "2296245  2309106     2345  41382953921  642    940207         1          0.0   \n",
       "2296839  2309702      232  41383029591  642   1122250         1          0.0   \n",
       "2298243  2311114       22  41383302099  642  16769972         1          0.0   \n",
       "2298341  2311212      611  41383311854  642  16769554         1          0.0   \n",
       "\n",
       "         store_id  retail_disc  trans_time  week_no  coupon_disc  \\\n",
       "761           375         0.00        1547        1          0.0   \n",
       "991           446        -1.48          35        1          0.0   \n",
       "1089          375        -3.29        1705        1          0.0   \n",
       "1107          375        -2.49        1705        1          0.0   \n",
       "1155          352        -1.19        2204        1          0.0   \n",
       "...           ...          ...         ...      ...          ...   \n",
       "2295880       396        -6.99        1701       92          0.0   \n",
       "2296245       450        -6.69        1708       92          0.0   \n",
       "2296839     34280        -3.99        1417       92          0.0   \n",
       "2298243       365        -4.95        1220       92          0.0   \n",
       "2298341       389        -3.99        1210       92          0.0   \n",
       "\n",
       "         coupon_match_disc  \n",
       "761                    0.0  \n",
       "991                    0.0  \n",
       "1089                   0.0  \n",
       "1107                   0.0  \n",
       "1155                   0.0  \n",
       "...                    ...  \n",
       "2295880                0.0  \n",
       "2296245                0.0  \n",
       "2296839                0.0  \n",
       "2298243                0.0  \n",
       "2298341                0.0  \n",
       "\n",
       "[4007 rows x 13 columns]"
      ]
     },
     "execution_count": 12,
     "metadata": {},
     "output_type": "execute_result"
    }
   ],
   "source": [
    "data_train.loc[data_train['sales_value'] == 0]"
   ]
  },
  {
   "cell_type": "markdown",
   "metadata": {},
   "source": [
    "Также осталось некоторое количество транзакций с нулевой стоимостью. С ними никакую предобработку не совершаем, предполагаем, что это какие-либо акции или товары в подарок"
   ]
  },
  {
   "cell_type": "markdown",
   "metadata": {},
   "source": [
    "**1. Определим, после какого периода товар можно считать устаревшим и не рекомендовать его**"
   ]
  },
  {
   "cell_type": "code",
   "execution_count": 13,
   "metadata": {},
   "outputs": [
    {
     "name": "stdout",
     "output_type": "stream",
     "text": [
      "Всего в датасете 88743 товаров\n",
      "Из них 68178 не появляются в test\n",
      "При этом в test 20565 товаров, из которых 1408 новых товаров\n",
      "Процент совершенно новых товаров составляет 6.85%\n"
     ]
    }
   ],
   "source": [
    "# Все товары в тесте (валидационной выборке)\n",
    "test_items = set(data_val['item_id'])\n",
    "\n",
    "# Все товары в train\n",
    "train_items = set(data_train['item_id'])\n",
    "\n",
    "# Товары, которые есть в train, но нет в test\n",
    "old_items = train_items.difference(test_items)\n",
    "\n",
    "# Новые товары в тесте\n",
    "new_items = test_items.difference(train_items)\n",
    "\n",
    "print(f'Всего в датасете {len(train_items.union(test_items))} товаров')\n",
    "print(f'Из них {len(old_items)} не появляются в test')\n",
    "print(f'При этом в test {len(test_items)} товаров, из которых {len(new_items)} новых товаров')\n",
    "print(f'Процент совершенно новых товаров составляет {len(new_items) / len(test_items) * 100:.2f}%')"
   ]
  },
  {
   "cell_type": "code",
   "execution_count": 14,
   "metadata": {},
   "outputs": [],
   "source": [
    "intersection_percents = []\n",
    "for i in range(data['week_no'].max() - test_size_weeks - 4):\n",
    "    current_train_items = set(data.loc[\n",
    "        (data['week_no'] <= data['week_no'].max() - test_size_weeks) &\n",
    "        (data['week_no'] > data['week_no'].max() - test_size_weeks - 4 - i), 'item_id'])\n",
    "    \n",
    "    # Смотрим процент товаров пересекающихся с тестом\n",
    "    intersection_percent = len(current_train_items.intersection(test_items)) / len(test_items) * 100\n",
    "    intersection_percents.append(intersection_percent)"
   ]
  },
  {
   "cell_type": "code",
   "execution_count": 15,
   "metadata": {},
   "outputs": [],
   "source": [
    "weeks_no = list(range(4, data['week_no'].max() - test_size_weeks))"
   ]
  },
  {
   "cell_type": "code",
   "execution_count": 16,
   "metadata": {
    "scrolled": false
   },
   "outputs": [
    {
     "data": {
      "image/png": "[encoded data removed]",
      "text/plain": [
       "<Figure size 432x288 with 1 Axes>"
      ]
     },
     "metadata": {
      "needs_background": "light"
     },
     "output_type": "display_data"
    }
   ],
   "source": [
    "plt.plot(weeks_no, intersection_percents)\n",
    "plt.title('Процент количества товаров, содержащихся в train и test, относительно размера train выборки')\n",
    "plt.xlabel('Размер train выборки (кол-во недель)')\n",
    "plt.ylabel('Процент пересечения train и test')\n",
    "plt.grid()"
   ]
  },
  {
   "cell_type": "markdown",
   "metadata": {},
   "source": [
    "Также стоит помнить, что в test содержится 7% новых товаров. <br>\n",
    "То есть, отбросив, например, товары, которые не продавались более 20 недель, мы все равно покроем ~95% тестовой выборки, учитывая, 7% новых товаров"
   ]
  },
  {
   "cell_type": "markdown",
   "metadata": {},
   "source": [
    "**1.2 Сколько уникальных товаров содержится в train выборке в зависимости от количества выбранных недель**"
   ]
  },
  {
   "cell_type": "code",
   "execution_count": 17,
   "metadata": {},
   "outputs": [],
   "source": [
    "train_percents = []\n",
    "for i in range(data['week_no'].max() - test_size_weeks - 4):\n",
    "    current_train_items = set(data.loc[\n",
    "        (data['week_no'] <= data['week_no'].max() - test_size_weeks) &\n",
    "        (data['week_no'] > data['week_no'].max() - test_size_weeks - 4 - i), 'item_id'])\n",
    "    \n",
    "    # Смотрим процент товаров пересекающихся с тестом\n",
    "    train_percent = len(current_train_items) / len(train_items) * 100\n",
    "    train_percents.append(train_percent)"
   ]
  },
  {
   "cell_type": "code",
   "execution_count": 18,
   "metadata": {},
   "outputs": [],
   "source": [
    "weeks_no = list(range(4, data['week_no'].max() - test_size_weeks))"
   ]
  },
  {
   "cell_type": "code",
   "execution_count": 19,
   "metadata": {},
   "outputs": [
    {
     "data": {
      "image/png": "[encoded data removed]",
      "text/plain": [
       "<Figure size 432x288 with 1 Axes>"
      ]
     },
     "metadata": {
      "needs_background": "light"
     },
     "output_type": "display_data"
    }
   ],
   "source": [
    "plt.plot(weeks_no, train_percents)\n",
    "plt.title('Процент количества товаров, содержащихся в train, относительно размера train выборки')\n",
    "plt.xlabel('Размер train выборки (кол-во недель)')\n",
    "plt.ylabel('Процент товаров от всей train выборки')\n",
    "plt.grid()"
   ]
  },
  {
   "cell_type": "markdown",
   "metadata": {},
   "source": [
    "Здесь зависимость близка к линейной. Из графика видно, что отбросив товары старше 20 недель, мы сократим количество товаров, доступных для предсказаний, на ~50%. Т.е. с 90 000 до ~45 000, потеряв при этом всего около 5% ( ~1000) потенциально актуальных товаров (см ниже)."
   ]
  },
  {
   "cell_type": "markdown",
   "metadata": {},
   "source": [
    "**1.3 Насколько популярны в тесте товары старше 20 недель**"
   ]
  },
  {
   "cell_type": "markdown",
   "metadata": {},
   "source": [
    "Необходимо убедиться, что товары старше 20 недель по каким-либо причинам не попадают в верхушку топа в тесте. Для этого отсортируем товары из теста по популярности (популярность считаем по значению quantity) и посмотрим, какой рейтинг имеет самый популярный из старых товаров"
   ]
  },
  {
   "cell_type": "code",
   "execution_count": 20,
   "metadata": {},
   "outputs": [],
   "source": [
    "def rate_filtered_items_on_test(filtered_list, test_items_top):\n",
    "    \"\"\"Функция для проверки популярности отфильтрованных товаров\n",
    "    Input\n",
    "    -----\n",
    "    filtered_list: список отфильтрованных товаров\n",
    "    test_items_top: список товаров из валидационной выборки, отсортированных по популярности\n",
    "    \n",
    "    Return\n",
    "    ------\n",
    "    items_rates: словарь, где ключи - id отфильтрованного товара, значения - место в топе товаров\n",
    "    \"\"\"\n",
    "    items_rates = {item: test_items_top.index(item) for item in filtered_list}\n",
    "    items_rates = {k: v for k, v in sorted(items_rates.items(), key=lambda item: item[1])}\n",
    "    return items_rates"
   ]
  },
  {
   "cell_type": "code",
   "execution_count": 21,
   "metadata": {},
   "outputs": [],
   "source": [
    "# Отсортированные по популярности товары в test\n",
    "test_popularity = data_val.groupby('item_id')['quantity'].sum().reset_index()\n",
    "test_popularity.rename(columns={'quantity': 'n_sold'}, inplace=True)\n",
    "top_test = test_popularity.sort_values('n_sold', ascending=False).item_id.tolist()"
   ]
  },
  {
   "cell_type": "code",
   "execution_count": 22,
   "metadata": {},
   "outputs": [
    {
     "name": "stdout",
     "output_type": "stream",
     "text": [
      "Всего в test присутствует 20565 товаров\n",
      "Фильтр по неделям при этом также фильтрует 1050 товаров, содержащихся в тесте\n",
      "Самые популярные товары старше 20 недель находятся на [988, 1190, 1474, 1482, 1542] позициях\n"
     ]
    }
   ],
   "source": [
    "# Товары старше 20 недель присуствующие в test\n",
    "older_20_weeks = data_train.loc[(data_train['week_no'] <= data_train['week_no'].max() - 20), 'item_id'].tolist()\n",
    "younger_20_weeks = data_train.loc[(data_train['week_no'] > data_train['week_no'].max() - 20), 'item_id'].tolist()\n",
    "\n",
    "older_20_weeks_only = set(older_20_weeks).difference(set(younger_20_weeks))\n",
    "older_20_weeks_in_test = list(set(older_20_weeks_only).intersection(set(top_test)))\n",
    "\n",
    "older_20_weeks_items_rates = rate_filtered_items_on_test(older_20_weeks_in_test, top_test)\n",
    "        \n",
    "print(f'Всего в test присутствует {len(top_test)} товаров')\n",
    "print(f'Фильтр по неделям при этом также фильтрует {len(older_20_weeks_in_test)} товаров, содержащихся в тесте')\n",
    "print(f'Самые популярные товары старше 20 недель находятся на {list(older_20_weeks_items_rates.values())[:5]} позициях')"
   ]
  },
  {
   "cell_type": "code",
   "execution_count": 23,
   "metadata": {
    "scrolled": true
   },
   "outputs": [
    {
     "data": {
      "image/png": "[encoded data removed]",
      "text/plain": [
       "<Figure size 576x288 with 1 Axes>"
      ]
     },
     "metadata": {
      "needs_background": "light"
     },
     "output_type": "display_data"
    }
   ],
   "source": [
    "plt.figure(figsize=(8, 4))\n",
    "plt.scatter(list(range(len(older_20_weeks_in_test))), list(older_20_weeks_items_rates.values()))\n",
    "plt.title('Распределение позиций старых товаров среди топ популярных в test')\n",
    "plt.ylabel('Позиция товара в топе популярных')\n",
    "plt.grid()"
   ]
  },
  {
   "cell_type": "markdown",
   "metadata": {},
   "source": [
    "Из приведенных выше данных видно, что часть товаров, которые не продавались дольше 20 недель, тем не менее являются достаточно популярными на тесте (но не выше ~топ 5%). Далее их популярность достаточно быстро падает. Тем не менее около 150 товаров из отсеченных находятся в топ 50% теста. 150 товаров - это меньше 1% от всего теста. При этом мы отсекли порядка 44 000 точно неинтересных товаров и только 1000 потенциально интересных"
   ]
  },
  {
   "cell_type": "markdown",
   "metadata": {},
   "source": [
    "**2. Непопулярные категории**"
   ]
  },
  {
   "cell_type": "markdown",
   "metadata": {},
   "source": [
    "Определение неинтересных категорий оценим при помощи подсчета количества уникальных пользователей, покупающих товары по категориям. Делаем это из соображений, что нам необходимо будет делать рекомендации для клиентов => если мало клиентов покупают товары этих категорий, значит, мы можем их рекомендовать только малому количеству пользователей, а клиентам, которые и так покупают товары из редких категорий рекомендовать их бессмысленно (они и так покупают)."
   ]
  },
  {
   "cell_type": "code",
   "execution_count": 24,
   "metadata": {},
   "outputs": [],
   "source": [
    "train_categories = pd.merge(data_train[['item_id', 'user_id']], \n",
    "                            item_features[['item_id', 'sub_commodity_desc']], how='left')"
   ]
  },
  {
   "cell_type": "code",
   "execution_count": 25,
   "metadata": {
    "scrolled": true
   },
   "outputs": [],
   "source": [
    "nunique_users = train_categories['user_id'].nunique()\n",
    "\n",
    "categories_popularity = train_categories.groupby('sub_commodity_desc')['user_id'].nunique().reset_index()\n",
    "categories_popularity['user_id'] = categories_popularity['user_id'] / nunique_users\n",
    "categories_popularity.rename(columns={'user_id': 'share_unique_users'}, inplace=True)\n",
    "\n",
    "nunique_categories = categories_popularity['sub_commodity_desc'].nunique()"
   ]
  },
  {
   "cell_type": "code",
   "execution_count": 26,
   "metadata": {},
   "outputs": [
    {
     "name": "stdout",
     "output_type": "stream",
     "text": [
      "Всего в тренировочном датасете 2499 уникальных покупателей\n",
      "Всего в тренировочном датасете представлено 2355 категорий\n"
     ]
    }
   ],
   "source": [
    "print(f'Всего в тренировочном датасете {nunique_users} уникальных покупателей')\n",
    "print(f'Всего в тренировочном датасете представлено {nunique_categories} категорий')"
   ]
  },
  {
   "cell_type": "markdown",
   "metadata": {},
   "source": [
    "Будем считать категорию непопулярной если ее покупают меньше 4% (около 100) покупателей"
   ]
  },
  {
   "cell_type": "code",
   "execution_count": 27,
   "metadata": {
    "scrolled": true
   },
   "outputs": [
    {
     "data": {
      "text/html": [
       "<div>\n",
       "<style scoped>\n",
       "    .dataframe tbody tr th:only-of-type {\n",
       "        vertical-align: middle;\n",
       "    }\n",
       "\n",
       "    .dataframe tbody tr th {\n",
       "        vertical-align: top;\n",
       "    }\n",
       "\n",
       "    .dataframe thead th {\n",
       "        text-align: right;\n",
       "    }\n",
       "</style>\n",
       "<table border=\"1\" class=\"dataframe\">\n",
       "  <thead>\n",
       "    <tr style=\"text-align: right;\">\n",
       "      <th></th>\n",
       "      <th>sub_commodity_desc</th>\n",
       "      <th>share_unique_users</th>\n",
       "    </tr>\n",
       "  </thead>\n",
       "  <tbody>\n",
       "    <tr>\n",
       "      <th>0</th>\n",
       "      <td>*ATH ACCES:TOWEL BARS/SOAP D</td>\n",
       "      <td>0.0004</td>\n",
       "    </tr>\n",
       "    <tr>\n",
       "      <th>1</th>\n",
       "      <td>MARINATED BEEF</td>\n",
       "      <td>0.0004</td>\n",
       "    </tr>\n",
       "    <tr>\n",
       "      <th>2</th>\n",
       "      <td>BEDDINGS BLANKETS</td>\n",
       "      <td>0.0004</td>\n",
       "    </tr>\n",
       "    <tr>\n",
       "      <th>3</th>\n",
       "      <td>BEEF</td>\n",
       "      <td>0.0004</td>\n",
       "    </tr>\n",
       "    <tr>\n",
       "      <th>4</th>\n",
       "      <td>MAGAZINE SUBSCRIPTIONS</td>\n",
       "      <td>0.0004</td>\n",
       "    </tr>\n",
       "  </tbody>\n",
       "</table>\n",
       "</div>"
      ],
      "text/plain": [
       "             sub_commodity_desc  share_unique_users\n",
       "0  *ATH ACCES:TOWEL BARS/SOAP D              0.0004\n",
       "1                MARINATED BEEF              0.0004\n",
       "2             BEDDINGS BLANKETS              0.0004\n",
       "3                          BEEF              0.0004\n",
       "4        MAGAZINE SUBSCRIPTIONS              0.0004"
      ]
     },
     "execution_count": 27,
     "metadata": {},
     "output_type": "execute_result"
    }
   ],
   "source": [
    "categories_popularity = categories_popularity.sort_values(by=['share_unique_users']).reset_index(drop=True)\n",
    "categories_popularity.head()"
   ]
  },
  {
   "cell_type": "code",
   "execution_count": 28,
   "metadata": {},
   "outputs": [
    {
     "name": "stdout",
     "output_type": "stream",
     "text": [
      "Отсеиваем 1281 непопулярных категорий, в которых суммарно содержится 12767 товаров\n"
     ]
    }
   ],
   "source": [
    "not_popular_categories = \\\n",
    "    categories_popularity.loc[categories_popularity['share_unique_users'] < 0.04, 'sub_commodity_desc'].tolist()\n",
    "\n",
    "# npc - not popular category\n",
    "nunique_items_in_npc = \\\n",
    "    train_categories.loc[train_categories['sub_commodity_desc'].isin(not_popular_categories), 'item_id'].nunique()\n",
    "unique_items_in_npc = \\\n",
    "    train_categories.loc[train_categories['sub_commodity_desc'].isin(not_popular_categories), 'item_id'].unique()\n",
    "\n",
    "print(f'Отсеиваем {len(not_popular_categories)} непопулярных категорий, в которых суммарно содержится '\\\n",
    "      f'{nunique_items_in_npc} товаров')"
   ]
  },
  {
   "cell_type": "code",
   "execution_count": 29,
   "metadata": {},
   "outputs": [
    {
     "name": "stdout",
     "output_type": "stream",
     "text": [
      "Этот метод дополнительно отфильтровывает 5387 товаров, из которых 1015 присутствуют в валидационной выборке\n"
     ]
    }
   ],
   "source": [
    "additional_filtered_after_npc = set(unique_items_in_npc).difference(set(older_20_weeks_only))\n",
    "npc_filtered_in_test = additional_filtered_after_npc.intersection(set(top_test))\n",
    "\n",
    "print(f'Этот метод дополнительно отфильтровывает {len(additional_filtered_after_npc)} товаров,'\\\n",
    "     f' из которых {len(npc_filtered_in_test)} присутствуют в валидационной выборке')"
   ]
  },
  {
   "cell_type": "code",
   "execution_count": 30,
   "metadata": {},
   "outputs": [
    {
     "name": "stdout",
     "output_type": "stream",
     "text": [
      "топ-5 отфильтрованных по непопулярным категориям товаров находятся в тесте на позициях [295, 384, 853, 888, 985]\n"
     ]
    }
   ],
   "source": [
    "npc_rates = rate_filtered_items_on_test(npc_filtered_in_test, top_test)\n",
    "\n",
    "print(f'топ-5 отфильтрованных по непопулярным категориям товаров находятся в тесте на позициях {list(npc_rates.values())[:5]}')"
   ]
  },
  {
   "cell_type": "code",
   "execution_count": 31,
   "metadata": {
    "scrolled": true
   },
   "outputs": [
    {
     "data": {
      "image/png": "[encoded data removed]",
      "text/plain": [
       "<Figure size 576x288 with 1 Axes>"
      ]
     },
     "metadata": {
      "needs_background": "light"
     },
     "output_type": "display_data"
    }
   ],
   "source": [
    "plt.figure(figsize=(8, 4))\n",
    "plt.scatter(list(range(len(npc_filtered_in_test))), list(npc_rates.values()))\n",
    "plt.title('Распределение позиций товаров из непопулярных категорий среди топ популярных в test')\n",
    "plt.ylabel('Позиция товара в топе популярных')\n",
    "plt.grid()"
   ]
  },
  {
   "cell_type": "markdown",
   "metadata": {},
   "source": [
    "Из анализа выше видно, что, отбрасывая непопулярные категории, в которых делают покупки менее 4% клиентов  (~100 человек), мы дополнительно к фильтру по неделям отбрасываем 5400 товаров, при этом 1000 из которых ( ~5% от теста) являются потенциально интересными и около 100 из них относительно популярны на тесте (выше топ-25%)"
   ]
  },
  {
   "cell_type": "markdown",
   "metadata": {},
   "source": [
    "**3.1 Непопулярные товары**"
   ]
  },
  {
   "cell_type": "markdown",
   "metadata": {},
   "source": [
    "Фильтрацию проведем по аналогии с непопулярными категориями, но порог пользователей поставим в 0.1% (менее 3 человек, фильтр достаточно мощный, поэтому такое значение)"
   ]
  },
  {
   "cell_type": "code",
   "execution_count": 32,
   "metadata": {},
   "outputs": [
    {
     "data": {
      "text/html": [
       "<div>\n",
       "<style scoped>\n",
       "    .dataframe tbody tr th:only-of-type {\n",
       "        vertical-align: middle;\n",
       "    }\n",
       "\n",
       "    .dataframe tbody tr th {\n",
       "        vertical-align: top;\n",
       "    }\n",
       "\n",
       "    .dataframe thead th {\n",
       "        text-align: right;\n",
       "    }\n",
       "</style>\n",
       "<table border=\"1\" class=\"dataframe\">\n",
       "  <thead>\n",
       "    <tr style=\"text-align: right;\">\n",
       "      <th></th>\n",
       "      <th>item_id</th>\n",
       "      <th>share_unique_users</th>\n",
       "    </tr>\n",
       "  </thead>\n",
       "  <tbody>\n",
       "    <tr>\n",
       "      <th>0</th>\n",
       "      <td>1403159</td>\n",
       "      <td>0.0004</td>\n",
       "    </tr>\n",
       "    <tr>\n",
       "      <th>1</th>\n",
       "      <td>2205386</td>\n",
       "      <td>0.0004</td>\n",
       "    </tr>\n",
       "    <tr>\n",
       "      <th>2</th>\n",
       "      <td>2205746</td>\n",
       "      <td>0.0004</td>\n",
       "    </tr>\n",
       "    <tr>\n",
       "      <th>3</th>\n",
       "      <td>2205805</td>\n",
       "      <td>0.0004</td>\n",
       "    </tr>\n",
       "    <tr>\n",
       "      <th>4</th>\n",
       "      <td>2207141</td>\n",
       "      <td>0.0004</td>\n",
       "    </tr>\n",
       "  </tbody>\n",
       "</table>\n",
       "</div>"
      ],
      "text/plain": [
       "   item_id  share_unique_users\n",
       "0  1403159              0.0004\n",
       "1  2205386              0.0004\n",
       "2  2205746              0.0004\n",
       "3  2205805              0.0004\n",
       "4  2207141              0.0004"
      ]
     },
     "execution_count": 32,
     "metadata": {},
     "output_type": "execute_result"
    }
   ],
   "source": [
    "items_popularity = data_train.groupby('item_id')['user_id'].nunique().reset_index()\n",
    "items_popularity['user_id'] = items_popularity['user_id'] / data_train['user_id'].nunique()\n",
    "items_popularity.rename(columns={'user_id': 'share_unique_users'}, inplace=True)\n",
    "items_popularity = items_popularity.sort_values(by=['share_unique_users']).reset_index(drop=True)\n",
    "items_popularity.head()"
   ]
  },
  {
   "cell_type": "code",
   "execution_count": 33,
   "metadata": {},
   "outputs": [
    {
     "name": "stdout",
     "output_type": "stream",
     "text": [
      "Отсеиваем 45699 товаров\n"
     ]
    }
   ],
   "source": [
    "not_popular_items = \\\n",
    "    items_popularity.loc[items_popularity['share_unique_users'] <= 0.001, 'item_id']\n",
    "\n",
    "# npi - not popular items\n",
    "nunique_npi = not_popular_items.nunique()\n",
    "\n",
    "print(f'Отсеиваем {nunique_npi} товаров')"
   ]
  },
  {
   "cell_type": "markdown",
   "metadata": {},
   "source": [
    "Интересное наблюдение: около 50% всех товаров покупают менее 0.1% всех покупателей (в нашем случае 0.1% - это около 3 человек)<br>\n",
    "Кажется, это самый мощный фильтр. Узнаем, какое количество товаров отфильтровывается дополнительно к уже отфильтрованным, и насколько они популярны на валидационной выборке"
   ]
  },
  {
   "cell_type": "code",
   "execution_count": 34,
   "metadata": {},
   "outputs": [
    {
     "name": "stdout",
     "output_type": "stream",
     "text": [
      "Всего в тренировочном датасете непопулярных товаров: 45699\n",
      "1667 из них находятся в тесте\n",
      "Топ-5 по популярности непопулярных на train товаров находятся в data_val на позициях [7, 600, 756, 853, 864]\n"
     ]
    }
   ],
   "source": [
    "npi_in_test = set(not_popular_items.unique()).intersection(set(top_test))\n",
    "npi_rates = rate_filtered_items_on_test(npi_in_test, top_test)\n",
    "\n",
    "print(f'Всего в тренировочном датасете непопулярных товаров: {nunique_npi}')\n",
    "print(f'{len(npi_in_test)} из них находятся в тесте')\n",
    "print(f'Топ-5 по популярности непопулярных на train товаров находятся в data_val на позициях {list(npi_rates.values())[:5]}')"
   ]
  },
  {
   "cell_type": "code",
   "execution_count": 35,
   "metadata": {},
   "outputs": [
    {
     "name": "stdout",
     "output_type": "stream",
     "text": [
      "Дополнительно отфильтровано 10386\n"
     ]
    }
   ],
   "source": [
    "already_filtered = set(older_20_weeks_only).union(set(additional_filtered_after_npc))\n",
    "additional_filtered_after_npi = set(not_popular_items.unique()).difference(already_filtered)\n",
    "\n",
    "print(f'Дополнительно отфильтровано {len(additional_filtered_after_npi)}')"
   ]
  },
  {
   "cell_type": "code",
   "execution_count": 36,
   "metadata": {},
   "outputs": [
    {
     "data": {
      "image/png": "[encoded data removed]",
      "text/plain": [
       "<Figure size 576x288 with 1 Axes>"
      ]
     },
     "metadata": {
      "needs_background": "light"
     },
     "output_type": "display_data"
    }
   ],
   "source": [
    "plt.figure(figsize=(8, 4))\n",
    "plt.scatter(list(range(len(npi_in_test))), list(npi_rates.values()))\n",
    "plt.title('Распределение позиций дешевых товаров среди топ популярных в test')\n",
    "plt.ylabel('Позиция товара в топе популярных')\n",
    "plt.grid()"
   ]
  },
  {
   "cell_type": "code",
   "execution_count": 37,
   "metadata": {},
   "outputs": [
    {
     "data": {
      "text/plain": [
       "9930"
      ]
     },
     "execution_count": 37,
     "metadata": {},
     "output_type": "execute_result"
    }
   ],
   "source": [
    "list(npi_rates.values())[250]"
   ]
  },
  {
   "cell_type": "markdown",
   "metadata": {},
   "source": [
    "Как видно из данных выше, то, что товар являлся непопулярным на протяжении некоторого времени, совершенно не означает, что он продолжит быть непопулярным. Около 250 таких непопулярных товаров в тренировочной выборке попадают выше топ-25% на тесте. Вероятно, сказывается сезонность или другие факторы."
   ]
  },
  {
   "cell_type": "markdown",
   "metadata": {},
   "source": [
    "**3.2 Слишком популярные товары (товары которые покупают более 50% полкупателей)**"
   ]
  },
  {
   "cell_type": "markdown",
   "metadata": {},
   "source": [
    "Нет смысла рекомендовать, если эти товары и так покупают большое количество человек"
   ]
  },
  {
   "cell_type": "code",
   "execution_count": 38,
   "metadata": {},
   "outputs": [
    {
     "name": "stdout",
     "output_type": "stream",
     "text": [
      "Отсеиваем 9 товаров\n"
     ]
    }
   ],
   "source": [
    "too_popular_items = items_popularity.loc[items_popularity['share_unique_users'] >= 0.5, 'item_id']\n",
    "\n",
    "# tpi - too popular items\n",
    "nunique_tpi = too_popular_items.nunique()\n",
    "\n",
    "print(f'Отсеиваем {nunique_tpi} товаров')"
   ]
  },
  {
   "cell_type": "code",
   "execution_count": 39,
   "metadata": {},
   "outputs": [
    {
     "name": "stdout",
     "output_type": "stream",
     "text": [
      "Всего в тренировочном датасете популярных товаров: 9\n",
      "9 из них находятся в тесте\n",
      "Топ-5 по популярности популярных на train товаров находятся в data_val на позициях [0, 9, 10, 11, 13]\n"
     ]
    }
   ],
   "source": [
    "tpi_in_test = set(too_popular_items.unique()).intersection(set(top_test))\n",
    "tpi_rates = rate_filtered_items_on_test(tpi_in_test, top_test)\n",
    "\n",
    "print(f'Всего в тренировочном датасете популярных товаров: {nunique_tpi}')\n",
    "print(f'{len(tpi_in_test)} из них находятся в тесте')\n",
    "print(f'Топ-5 по популярности популярных на train товаров находятся в data_val на позициях {list(tpi_rates.values())[:5]}')"
   ]
  },
  {
   "cell_type": "code",
   "execution_count": 40,
   "metadata": {},
   "outputs": [
    {
     "name": "stdout",
     "output_type": "stream",
     "text": [
      "Дополнительно отфильтровано 9\n"
     ]
    }
   ],
   "source": [
    "already_filtered = set(already_filtered).union(set(additional_filtered_after_npi))\n",
    "additional_filtered_after_tpi = set(too_popular_items.unique()).difference(already_filtered)\n",
    "\n",
    "print(f'Дополнительно отфильтровано {len(additional_filtered_after_tpi)}')"
   ]
  },
  {
   "cell_type": "markdown",
   "metadata": {},
   "source": [
    "Слабый, тем не менее, на мой взгляд, необходимый фильтр. Популярные товары на тренировочной выборке также достаточно популярны и на тесте."
   ]
  },
  {
   "cell_type": "markdown",
   "metadata": {},
   "source": [
    "**4.1 Товары дешевле 1 доллара (бизнес-ограничение)**"
   ]
  },
  {
   "cell_type": "markdown",
   "metadata": {},
   "source": [
    "Сколько товаров стоят дешевле 1 доллара? Какой это процент от валидационной выборки? Насколько они там популярны"
   ]
  },
  {
   "cell_type": "code",
   "execution_count": 41,
   "metadata": {},
   "outputs": [],
   "source": [
    "df_prices = data_train.groupby('item_id')[['quantity', 'sales_value']].sum()\n",
    "df_prices['price'] = df_prices.apply(lambda item: \n",
    "                                     item['sales_value'] / item['quantity']\n",
    "                                     if item['quantity'] else 0, axis=1\n",
    "                                    )\n",
    "df_prices.drop(columns=['quantity', 'sales_value'], inplace=True)\n",
    "df_prices.reset_index(inplace=True)"
   ]
  },
  {
   "cell_type": "code",
   "execution_count": 42,
   "metadata": {},
   "outputs": [
    {
     "data": {
      "text/html": [
       "<div>\n",
       "<style scoped>\n",
       "    .dataframe tbody tr th:only-of-type {\n",
       "        vertical-align: middle;\n",
       "    }\n",
       "\n",
       "    .dataframe tbody tr th {\n",
       "        vertical-align: top;\n",
       "    }\n",
       "\n",
       "    .dataframe thead th {\n",
       "        text-align: right;\n",
       "    }\n",
       "</style>\n",
       "<table border=\"1\" class=\"dataframe\">\n",
       "  <thead>\n",
       "    <tr style=\"text-align: right;\">\n",
       "      <th></th>\n",
       "      <th>item_id</th>\n",
       "      <th>price</th>\n",
       "    </tr>\n",
       "  </thead>\n",
       "  <tbody>\n",
       "    <tr>\n",
       "      <th>0</th>\n",
       "      <td>25671</td>\n",
       "      <td>3.49</td>\n",
       "    </tr>\n",
       "    <tr>\n",
       "      <th>1</th>\n",
       "      <td>26081</td>\n",
       "      <td>0.99</td>\n",
       "    </tr>\n",
       "    <tr>\n",
       "      <th>2</th>\n",
       "      <td>26093</td>\n",
       "      <td>1.59</td>\n",
       "    </tr>\n",
       "    <tr>\n",
       "      <th>3</th>\n",
       "      <td>26190</td>\n",
       "      <td>1.54</td>\n",
       "    </tr>\n",
       "    <tr>\n",
       "      <th>4</th>\n",
       "      <td>26355</td>\n",
       "      <td>0.99</td>\n",
       "    </tr>\n",
       "  </tbody>\n",
       "</table>\n",
       "</div>"
      ],
      "text/plain": [
       "   item_id  price\n",
       "0    25671   3.49\n",
       "1    26081   0.99\n",
       "2    26093   1.59\n",
       "3    26190   1.54\n",
       "4    26355   0.99"
      ]
     },
     "execution_count": 42,
     "metadata": {},
     "output_type": "execute_result"
    }
   ],
   "source": [
    "df_prices.head()"
   ]
  },
  {
   "cell_type": "code",
   "execution_count": 43,
   "metadata": {},
   "outputs": [
    {
     "name": "stdout",
     "output_type": "stream",
     "text": [
      "Всего в тренировочном датасете товаров с ценой менее 1$: 9897\n",
      "2383 из них находятся в тесте\n",
      "Топ-5 по популярности дешевых товаров находятся на позициях [0, 1, 2, 3, 4]\n"
     ]
    }
   ],
   "source": [
    "cheap_items = df_prices.loc[df_prices['price'] < 1, 'item_id'].unique().tolist()\n",
    "cheap_items_in_test = set(cheap_items).intersection(set(top_test))\n",
    "cheap_items_rates = rate_filtered_items_on_test(cheap_items_in_test, top_test)\n",
    "\n",
    "print(f'Всего в тренировочном датасете товаров с ценой менее 1$: {len(cheap_items)}')\n",
    "print(f'{len(cheap_items_in_test)} из них находятся в тесте')\n",
    "print(f'Топ-5 по популярности дешевых товаров находятся на позициях {list(cheap_items_rates.values())[:5]}')"
   ]
  },
  {
   "cell_type": "code",
   "execution_count": 44,
   "metadata": {},
   "outputs": [
    {
     "name": "stdout",
     "output_type": "stream",
     "text": [
      "Дополнительно отфильтровано 3161\n"
     ]
    }
   ],
   "source": [
    "already_filtered = already_filtered.union(set(additional_filtered_after_tpi))\n",
    "additional_filtered_after_cheap_items = set(cheap_items).difference(set(already_filtered))\n",
    "\n",
    "print(f'Дополнительно отфильтровано {len(additional_filtered_after_cheap_items)}')"
   ]
  },
  {
   "cell_type": "code",
   "execution_count": 45,
   "metadata": {
    "scrolled": true
   },
   "outputs": [
    {
     "data": {
      "image/png": "[encoded data removed]",
      "text/plain": [
       "<Figure size 576x288 with 1 Axes>"
      ]
     },
     "metadata": {
      "needs_background": "light"
     },
     "output_type": "display_data"
    }
   ],
   "source": [
    "plt.figure(figsize=(8, 4))\n",
    "plt.scatter(list(range(len(cheap_items_in_test))), list(cheap_items_rates.values()))\n",
    "plt.title('Распределение позиций дешевых товаров среди топ популярных в test')\n",
    "plt.ylabel('Позиция товара в топе популярных')\n",
    "plt.grid()"
   ]
  },
  {
   "cell_type": "markdown",
   "metadata": {},
   "source": [
    "Видно, что дешевые товары крайне популярны. Из 2500 дешевых товаров, которые можно встретить в тесте, примерно 1250 находятся выше топ-25%. Кроме того, данный фильтр отсекает дополнительно 3200 товаров."
   ]
  },
  {
   "cell_type": "markdown",
   "metadata": {},
   "source": [
    "**4.2 Слишком дорогие товары (дороже 20 долларов)**"
   ]
  },
  {
   "cell_type": "code",
   "execution_count": 46,
   "metadata": {},
   "outputs": [],
   "source": [
    "already_filtered = already_filtered.union(set(additional_filtered_after_cheap_items))"
   ]
  },
  {
   "cell_type": "code",
   "execution_count": 47,
   "metadata": {},
   "outputs": [
    {
     "name": "stdout",
     "output_type": "stream",
     "text": [
      "Всего в тренировочном датасете товаров с ценой более 20$: 956\n",
      "81 из них находятся в тесте\n",
      "Дополнительно отфильтровано 126\n",
      "Топ-5 по популярности дорогих товаров находятся на позициях [3348, 3401, 5177, 6441, 6561]\n"
     ]
    }
   ],
   "source": [
    "expensive_items = df_prices.loc[df_prices['price'] > 20, 'item_id'].unique()\n",
    "expensive_items_in_test = set(expensive_items).intersection(set(top_test))\n",
    "expensive_items_rates = rate_filtered_items_on_test(expensive_items_in_test, top_test)\n",
    "additional_filtered_after_exp_items = set(expensive_items).difference(already_filtered)\n",
    "\n",
    "print(f'Всего в тренировочном датасете товаров с ценой более 20$: {len(expensive_items)}')\n",
    "print(f'{len(expensive_items_in_test)} из них находятся в тесте')\n",
    "print(f'Дополнительно отфильтровано {len(additional_filtered_after_exp_items)}')\n",
    "print(f'Топ-5 по популярности дорогих товаров находятся на позициях {list(expensive_items_rates.values())[:5]}')"
   ]
  },
  {
   "cell_type": "code",
   "execution_count": 48,
   "metadata": {
    "scrolled": true
   },
   "outputs": [
    {
     "data": {
      "image/png": "[encoded data removed]",
      "text/plain": [
       "<Figure size 576x288 with 1 Axes>"
      ]
     },
     "metadata": {
      "needs_background": "light"
     },
     "output_type": "display_data"
    }
   ],
   "source": [
    "plt.figure(figsize=(8, 4))\n",
    "plt.scatter(list(range(len(expensive_items_in_test))), list(expensive_items_rates.values()))\n",
    "plt.title('Распределение позиций дешевых товаров среди топ популярных в test')\n",
    "plt.ylabel('Позиция товара в топе популярных')\n",
    "plt.grid()"
   ]
  },
  {
   "cell_type": "markdown",
   "metadata": {},
   "source": [
    "Дорогие товары слабо представлены в тесте и не являются особо популярными"
   ]
  },
  {
   "cell_type": "markdown",
   "metadata": {},
   "source": [
    "**5. Сколько новых товаров покупают юзеры по сравнению с предыдущими периодами**"
   ]
  },
  {
   "cell_type": "code",
   "execution_count": 49,
   "metadata": {},
   "outputs": [],
   "source": [
    "all_train_users = data_train['user_id'].unique()"
   ]
  },
  {
   "cell_type": "code",
   "execution_count": 50,
   "metadata": {},
   "outputs": [],
   "source": [
    "new_items_percents = []\n",
    "total_nitems = []\n",
    "for user in all_train_users:\n",
    "    train_user_items = data_train.loc[data_train['user_id'] == user, 'item_id'].unique().tolist()\n",
    "    test_user_items = data_val.loc[data_val['user_id'] == user, 'item_id'].unique().tolist()\n",
    "    new_items = set(test_user_items).difference(set(train_user_items))\n",
    "    all_items = set(test_user_items).union(set(train_user_items))\n",
    "    total_nitems.append(len(all_items))\n",
    "    new_items_percent = len(new_items) / len(all_items)\n",
    "    new_items_percents.append(new_items_percent)\n",
    "    \n",
    "df_new_items = pd.DataFrame(list(zip(all_train_users, total_nitems, new_items_percents)), \n",
    "                            columns=['user_id', 'n_items', 'new_items_percent'])"
   ]
  },
  {
   "cell_type": "code",
   "execution_count": 51,
   "metadata": {},
   "outputs": [
    {
     "data": {
      "text/html": [
       "<div>\n",
       "<style scoped>\n",
       "    .dataframe tbody tr th:only-of-type {\n",
       "        vertical-align: middle;\n",
       "    }\n",
       "\n",
       "    .dataframe tbody tr th {\n",
       "        vertical-align: top;\n",
       "    }\n",
       "\n",
       "    .dataframe thead th {\n",
       "        text-align: right;\n",
       "    }\n",
       "</style>\n",
       "<table border=\"1\" class=\"dataframe\">\n",
       "  <thead>\n",
       "    <tr style=\"text-align: right;\">\n",
       "      <th></th>\n",
       "      <th>user_id</th>\n",
       "      <th>n_items</th>\n",
       "      <th>new_items_percent</th>\n",
       "    </tr>\n",
       "  </thead>\n",
       "  <tbody>\n",
       "    <tr>\n",
       "      <th>0</th>\n",
       "      <td>2375</td>\n",
       "      <td>437</td>\n",
       "      <td>0.013730</td>\n",
       "    </tr>\n",
       "    <tr>\n",
       "      <th>1</th>\n",
       "      <td>1364</td>\n",
       "      <td>596</td>\n",
       "      <td>0.053691</td>\n",
       "    </tr>\n",
       "    <tr>\n",
       "      <th>2</th>\n",
       "      <td>1130</td>\n",
       "      <td>1403</td>\n",
       "      <td>0.028510</td>\n",
       "    </tr>\n",
       "    <tr>\n",
       "      <th>3</th>\n",
       "      <td>1173</td>\n",
       "      <td>186</td>\n",
       "      <td>0.000000</td>\n",
       "    </tr>\n",
       "    <tr>\n",
       "      <th>4</th>\n",
       "      <td>98</td>\n",
       "      <td>631</td>\n",
       "      <td>0.030111</td>\n",
       "    </tr>\n",
       "  </tbody>\n",
       "</table>\n",
       "</div>"
      ],
      "text/plain": [
       "   user_id  n_items  new_items_percent\n",
       "0     2375      437           0.013730\n",
       "1     1364      596           0.053691\n",
       "2     1130     1403           0.028510\n",
       "3     1173      186           0.000000\n",
       "4       98      631           0.030111"
      ]
     },
     "execution_count": 51,
     "metadata": {},
     "output_type": "execute_result"
    }
   ],
   "source": [
    "df_new_items.head()"
   ]
  },
  {
   "cell_type": "code",
   "execution_count": 52,
   "metadata": {},
   "outputs": [
    {
     "data": {
      "text/plain": [
       "0.2609043617446979"
      ]
     },
     "execution_count": 52,
     "metadata": {},
     "output_type": "execute_result"
    }
   ],
   "source": [
    "df_new_items.loc[df_new_items['new_items_percent'] == 0].shape[0] / df_new_items.shape[0]  "
   ]
  },
  {
   "cell_type": "code",
   "execution_count": 53,
   "metadata": {},
   "outputs": [
    {
     "data": {
      "text/plain": [
       "0.060024009603841535"
      ]
     },
     "execution_count": 53,
     "metadata": {},
     "output_type": "execute_result"
    }
   ],
   "source": [
    "df_new_items.loc[df_new_items['new_items_percent'] > 0.1].shape[0] / df_new_items.shape[0]"
   ]
  },
  {
   "cell_type": "markdown",
   "metadata": {},
   "source": [
    "Около 25% пользователей вообще не покупали новые товары на валидационной выборке. Также более 10% новых товаров попробовали всего 6% покупателей и около 68% купили в новом периоде до 10% новых для себя товаров"
   ]
  },
  {
   "cell_type": "markdown",
   "metadata": {},
   "source": [
    "**6. Сколько товаров остается после фильтрации, сколько из них присутствуют в тесте, на каких позициях они находятся по популярности**"
   ]
  },
  {
   "cell_type": "code",
   "execution_count": 54,
   "metadata": {},
   "outputs": [
    {
     "name": "stdout",
     "output_type": "stream",
     "text": [
      "Итого предфильтром отфильтровано 61815 товаров из 87335\n",
      "Из них 14047 товаров содержится в тестовой выборке\n",
      "Recall составляет 0.6830537320690494\n"
     ]
    }
   ],
   "source": [
    "total_filtered = already_filtered.union(additional_filtered_after_exp_items)\n",
    "all_items = data_train['item_id'].unique()\n",
    "items_after_filters = set(all_items).difference(total_filtered)\n",
    "items_after_filters_in_test = items_after_filters.intersection(set(top_test))\n",
    "items_after_filters_recall = len(items_after_filters_in_test) / len(top_test)\n",
    "\n",
    "print(f'Итого предфильтром отфильтровано {len(total_filtered)} товаров из {len(all_items)}')\n",
    "print(f'Из них {len(items_after_filters_in_test)} товаров содержится в тестовой выборке')\n",
    "print(f'Recall составляет {items_after_filters_recall}')"
   ]
  },
  {
   "cell_type": "code",
   "execution_count": 55,
   "metadata": {},
   "outputs": [
    {
     "data": {
      "image/png": "[encoded data removed]",
      "text/plain": [
       "<Figure size 576x288 with 1 Axes>"
      ]
     },
     "metadata": {
      "needs_background": "light"
     },
     "output_type": "display_data"
    }
   ],
   "source": [
    "items_after_filters_rates = rate_filtered_items_on_test(items_after_filters_in_test, top_test)\n",
    "\n",
    "plt.figure(figsize=(8, 4))\n",
    "plt.scatter(list(range(len(items_after_filters_in_test))), list(items_after_filters_rates.values()))\n",
    "plt.title('Распределение позиций товаров среди топ популярных в test')\n",
    "plt.ylabel('Позиция товара в топе популярных')\n",
    "plt.grid()"
   ]
  },
  {
   "cell_type": "code",
   "execution_count": 56,
   "metadata": {},
   "outputs": [
    {
     "name": "stdout",
     "output_type": "stream",
     "text": [
      "Топ-5 по популярности товаров после фильтрации находятся на позициях [15, 17, 18, 20, 22]\n"
     ]
    }
   ],
   "source": [
    "print(f'Топ-5 по популярности товаров после фильтрации находятся на позициях {list(items_after_filters_rates.values())[:5]}')"
   ]
  },
  {
   "cell_type": "markdown",
   "metadata": {},
   "source": [
    "Итого по результатам фильтрации: оставлено 25 000 из 88 000<br>\n",
    "14 000 являются потенциально актуальными, при этом они составляют около 68% от всего тестового датасета<br>\n",
    "Таким образом доля потенциально интересных товаров среди оставленных после фильтрации составляет 56%<br>\n",
    "Самым мощным фильтром является фильтр непопулярных товаров. Незначительно увеличивая порог, можно значительно увеличить количество отфильтрованных товаров"
   ]
  },
  {
   "cell_type": "markdown",
   "metadata": {},
   "source": [
    "**Предфильтрация**"
   ]
  },
  {
   "cell_type": "code",
   "execution_count": 57,
   "metadata": {},
   "outputs": [],
   "source": [
    "data_train_prefiltered = prefilter_items(data_train, item_features, take_n_popular=5000)"
   ]
  },
  {
   "cell_type": "markdown",
   "metadata": {},
   "source": [
    "### Построение моделей"
   ]
  },
  {
   "cell_type": "markdown",
   "metadata": {},
   "source": [
    "Формируем датасет с покупками юзеров"
   ]
  },
  {
   "cell_type": "code",
   "execution_count": 58,
   "metadata": {},
   "outputs": [
    {
     "data": {
      "text/html": [
       "<div>\n",
       "<style scoped>\n",
       "    .dataframe tbody tr th:only-of-type {\n",
       "        vertical-align: middle;\n",
       "    }\n",
       "\n",
       "    .dataframe tbody tr th {\n",
       "        vertical-align: top;\n",
       "    }\n",
       "\n",
       "    .dataframe thead th {\n",
       "        text-align: right;\n",
       "    }\n",
       "</style>\n",
       "<table border=\"1\" class=\"dataframe\">\n",
       "  <thead>\n",
       "    <tr style=\"text-align: right;\">\n",
       "      <th></th>\n",
       "      <th>user_id</th>\n",
       "      <th>actual</th>\n",
       "    </tr>\n",
       "  </thead>\n",
       "  <tbody>\n",
       "    <tr>\n",
       "      <th>0</th>\n",
       "      <td>1</td>\n",
       "      <td>[883616, 917704, 931860, 961554, 995242, 10020...</td>\n",
       "    </tr>\n",
       "    <tr>\n",
       "      <th>1</th>\n",
       "      <td>6</td>\n",
       "      <td>[909479, 7431990, 6553035, 12263667, 13382461,...</td>\n",
       "    </tr>\n",
       "  </tbody>\n",
       "</table>\n",
       "</div>"
      ],
      "text/plain": [
       "   user_id                                             actual\n",
       "0        1  [883616, 917704, 931860, 961554, 995242, 10020...\n",
       "1        6  [909479, 7431990, 6553035, 12263667, 13382461,..."
      ]
     },
     "execution_count": 58,
     "metadata": {},
     "output_type": "execute_result"
    }
   ],
   "source": [
    "target_df = data_val.groupby('user_id')['item_id'].unique().reset_index()\n",
    "target_df.columns=['user_id', 'actual']\n",
    "target_df.head(2)"
   ]
  },
  {
   "cell_type": "markdown",
   "metadata": {},
   "source": [
    "**1. Подготовка к оценке качества моделей**"
   ]
  },
  {
   "cell_type": "markdown",
   "metadata": {},
   "source": [
    "Я модифицировал класс MainRecommender, чтобы было удобнее подбирать параметры. Также добавил некоторые функции в utils и metrics для удобства (дополнительно представлены ниже)\n",
    "* Реализовал метод get_all_users_recomendations - надстройка над get_recomendations, позволяющая выбрать метод и делать рекомендации сразу для списка юзеров\n",
    "* Добавил возможность делать рекомендации новых товаров и вспомогательные функции для пересчета параметров и повторного обучения моделей в случае изменения user_item матрицы (например, изменения схемы расчета весов).\n",
    "* По каким-то причинам у меня отказался работать own_recommender (возвращал пустые списки, которые просто заменялись на топ покупок по всему датасету). Реализовал get_custom_own_recommendations на основе top_purchases\n",
    "* Добавил в имеющиеся методы параметры filter_items и filter_department, а также дописал метод choose_from_different_departments и реализовал логику для обязательного выбора товаров из разных категорий\n"
   ]
  },
  {
   "cell_type": "code",
   "execution_count": 59,
   "metadata": {},
   "outputs": [],
   "source": [
    "def create_prices_df(train_data):\n",
    "    \"\"\"Функция для формирования датасета с ценами товаров\n",
    "    Input\n",
    "    -----\n",
    "    train_data: pd.Dataframe со столбцами 'sales_value' и 'quantity'\n",
    "    \n",
    "    Return\n",
    "    ------\n",
    "    df_prices: pd.Dataframe c индексом 'item_id' и столбцом 'prices' \n",
    "    \"\"\"\n",
    "    assert all(col in train_data.columns for col in ['quantity', 'sales_value']),\\\n",
    "                    \"Incorrect input. Columns 'quantity' и 'sales_value' are abscent\"\n",
    "    \n",
    "    df_prices = train_data.groupby('item_id')[['quantity', 'sales_value']].sum()\n",
    "    df_prices['price'] = df_prices.apply(lambda item: \n",
    "                                         item['sales_value'] / item['quantity']\n",
    "                                         if item['quantity'] else 0, axis=1\n",
    "                                        )\n",
    "    df_prices.drop(columns=['quantity', 'sales_value'], inplace=True)\n",
    "    \n",
    "    return df_prices"
   ]
  },
  {
   "cell_type": "code",
   "execution_count": 60,
   "metadata": {},
   "outputs": [],
   "source": [
    "def get_prices(recommended_list, df_prices):\n",
    "    \"\"\"Функция возвращает цены товаров для последующего использования в money_precision\n",
    "    \n",
    "    Input\n",
    "    -----\n",
    "    recommended_list: list или np.array с item_id рекомендуемых товаров\n",
    "    df_prices: pd.Dataframe c индексом 'item_id' и столбцом 'prices'\n",
    "    \n",
    "    Return\n",
    "    ------\n",
    "    prices_recommended: list с ценами рекомендуемых товаров\n",
    "    \"\"\"\n",
    "    assert 'item_id' == df_prices.index.name, \"Incorrect input. Index shoud be named as 'item_id'\"\n",
    "    assert 'price' in df_prices.columns, \"Incorrect input. Column 'price' is abscent\"\n",
    "    \n",
    "    prices_recommended = []\n",
    "    \n",
    "    for item_id in recommended_list:\n",
    "        price = df_prices.loc[df_prices.index == item_id, 'price'].values\n",
    "        prices_recommended.extend(price)\n",
    "        \n",
    "    return prices_recommended"
   ]
  },
  {
   "cell_type": "code",
   "execution_count": 61,
   "metadata": {},
   "outputs": [],
   "source": [
    "def mean_money_precision_at_k(recommended_array, bought_array, df_prices, k=5):\n",
    "    \"\"\"Функция для подсчета метрики money_precision по всем юзерам\n",
    "    \n",
    "    Input\n",
    "    -----\n",
    "    recommended_array: list, содержащий списки рекомендованных товаров\n",
    "    bought_array: list, содержащий списки купленных товаров\n",
    "    df_prices: pd.Dataframe c индексом 'item_id' и столбцом 'prices'\n",
    "    \n",
    "    Return\n",
    "    ------\n",
    "    mean_money_precision_at_k: float, среднее значение метрики по всем юзерам\n",
    "    \"\"\"\n",
    "    \n",
    "    assert len(recommended_array) == len(bought_array), 'Mismatched dimensions for recommended and bought series'\n",
    "    \n",
    "    recommended_array = np.array(recommended_array)\n",
    "    bought_array = np.array(bought_array)\n",
    "    \n",
    "    recommended_prices_array = list(map((lambda x: get_prices(x, df_prices)), recommended_array))\n",
    "    \n",
    "    money_precision_list = [money_precision_at_k(recs, bought, prices, k=k)\n",
    "                           for recs, bought, prices in zip(recommended_array, bought_array, recommended_prices_array)]\n",
    "    \n",
    "    mean_money_precision_at_k = np.mean(money_precision_list)\n",
    "    \n",
    "    return mean_money_precision_at_k"
   ]
  },
  {
   "cell_type": "code",
   "execution_count": 62,
   "metadata": {},
   "outputs": [],
   "source": [
    "df_prices = create_prices_df(data_train)"
   ]
  },
  {
   "cell_type": "markdown",
   "metadata": {},
   "source": [
    "**2. Подбор параметров**"
   ]
  },
  {
   "cell_type": "markdown",
   "metadata": {},
   "source": [
    "**Как зависит целевая метрика от значений prefilter для модели als**"
   ]
  },
  {
   "cell_type": "code",
   "execution_count": 63,
   "metadata": {
    "scrolled": true
   },
   "outputs": [],
   "source": [
    "# Длительный поиск по небольшой сетке. На этапе формирования user_item матрицы везде были взяты топ-5000 товаров. \n",
    "# По результатам поиска, лучшими оказались параметры \n",
    "# top_not_popular = 0.001, n_weeks_back = 40, n_department = 0.01 (mean_money_precision_at_5 = 0.145)\n",
    "# Отмечу, что на этапе анализа, разумными казались другие значения\n",
    "\n",
    "if 0:   \n",
    "    metric_values = {}\n",
    "    i = 0\n",
    "\n",
    "    for top_not_popular in [0.001, 0.0005]:\n",
    "        for n_weeks_back in [20, 40, 60]:\n",
    "            for n_department in [0.01, 0.04]:\n",
    "                data_train_prefiltered = prefilter_items(data_train, item_features,\n",
    "                                                         filters={'top_popular': 0.5, \n",
    "                                                                  'top_notpopular': top_not_popular,\n",
    "                                                                  'cheaper_than': 1,\n",
    "                                                                  'more_expensive_than': 20,\n",
    "                                                                  'last_purchase_n_weeks_back': n_weeks_back,\n",
    "                                                                  'department_filter': n_department\n",
    "                                                                 })\n",
    "\n",
    "                recommender = MainRecommender(data_train_prefiltered)\n",
    "\n",
    "                recommendations = recommender.get_all_users_recommendations(method='als', \n",
    "                                                                           users=target_df['user_id'])\n",
    "                metric = mean_money_precision_at_k(recommendations, target_df['actual'], df_prices)\n",
    "\n",
    "                parameters = (top_not_popular, n_weeks_back, n_department)\n",
    "                metric_values[parameters] = metric\n",
    "\n",
    "                i += 1\n",
    "                print(f'Iteration N{i}')\n",
    "\n",
    "    metric_values = {k: v for k, v in sorted(metric_values.items(), key=lambda item: item[1])}"
   ]
  },
  {
   "cell_type": "markdown",
   "metadata": {},
   "source": [
    "**Зависимость метрики от параметров обучения модели als**"
   ]
  },
  {
   "cell_type": "code",
   "execution_count": 64,
   "metadata": {},
   "outputs": [],
   "source": [
    "# Достаточно долгий подбор параметров ALS. Лучшими оказались n_factors=30, iterations=80. \n",
    "# Эти параметры, скорее всего, не явяляются глобально-оптимальными, но мощностей запустить что-то более масштабное не хватает.\n",
    "if 0: \n",
    "    all_models = {}\n",
    "    i = 0\n",
    "\n",
    "    recommender = MainRecommender(data_train_prefiltered, \n",
    "                                  weighting=False)\n",
    "\n",
    "    for n_factors in range(10, 60, 10):\n",
    "        for iterations in range(20, 120, 20):\n",
    "                recommender.als_model = recommender.fit_als(recommender.user_item_matrix, \n",
    "                                                            n_factors=n_factors,\n",
    "                                                            iterations=iterations,\n",
    "                                                           )\n",
    "                recommendations = recommender.get_all_users_recommendations(method='als', \n",
    "                                                                           users=result_df['user_id'])\n",
    "                metric = mean_money_precision_at_k(recommendations, result_df['actual'], df_prices)\n",
    "\n",
    "                params = (n_factors, iterations)\n",
    "                all_models[params] = metric\n",
    "\n",
    "                i += 1\n",
    "\n",
    "                if i % 10 == 0:\n",
    "                    print(f'Iteration N {i}')\n",
    "\n",
    "    all_models = {k: v for k, v in sorted(all_models.items(), key=lambda item: item[1])}"
   ]
  },
  {
   "cell_type": "markdown",
   "metadata": {},
   "source": [
    "**Зависимость метрики от выбора топ-n товаров и взвешивания для рекомендаций als**"
   ]
  },
  {
   "cell_type": "code",
   "execution_count": 66,
   "metadata": {},
   "outputs": [],
   "source": [
    "# Долгий поиск по выбору параметров take_n_popular и weighting\n",
    "# Лучшую метрику дали take_n_popular = 8000 без взвешивания (mean_money_precision = 0.146)\n",
    "if 0:\n",
    "    metric_values = {}\n",
    "    i = 0\n",
    "\n",
    "    for top_n in range(2000, 11000, 1000):\n",
    "        for weighting in [False, 'bm25', 'tfidf']:\n",
    "            data_train_prefiltered = prefilter_items(data_train, item_features, take_n_popular=top_n,\n",
    "                                         filters={'top_popular': 0.5, \n",
    "                                                  'top_notpopular': 0.001,\n",
    "                                                  'cheaper_than': 1,\n",
    "                                                  'more_expensive_than': 20,\n",
    "                                                  'last_purchase_n_weeks_back': 40,\n",
    "                                                  'department_filter': 0.01\n",
    "                                                 })\n",
    "            \n",
    "            recommender = MainRecommender(data_train_prefiltered, weighting=weighting)\n",
    "            recommendations = recommender.get_all_users_recommendations(method='als', \n",
    "                                                                       users=target_df['user_id'])\n",
    "            metric = mean_money_precision_at_k(recommendations, target_df['actual'], df_prices)\n",
    "\n",
    "            params = (top_n, weighting)\n",
    "            metric_values[params] = metric\n",
    "\n",
    "            i += 1\n",
    "            if i % 2 == 0:\n",
    "                print(f'Iteration N {i}')\n",
    "                                                                    "
   ]
  },
  {
   "cell_type": "markdown",
   "metadata": {},
   "source": [
    "**3. own_recommender**"
   ]
  },
  {
   "cell_type": "markdown",
   "metadata": {},
   "source": [
    "По бизнес ограничениям обязательно необходимо рекомендовать 2 новых товара. Значит, own_recommender проверяем на money_precision_at_3"
   ]
  },
  {
   "cell_type": "code",
   "execution_count": 67,
   "metadata": {},
   "outputs": [
    {
     "name": "stderr",
     "output_type": "stream",
     "text": [
      "WARNING:root:Intel MKL BLAS detected. Its highly recommend to set the environment variable 'export MKL_NUM_THREADS=1' to disable its internal multithreading\n"
     ]
    },
    {
     "name": "stdout",
     "output_type": "stream",
     "text": [
      "0.34442239389986423\n"
     ]
    }
   ],
   "source": [
    "recommender = MainRecommender(data_train_prefiltered, take_n_popular=8000)\n",
    "own_recs = recommender.get_all_users_recommendations(method='custom_own',\n",
    "                                                    users=target_df['user_id'],\n",
    "                                                    N=3\n",
    "                                                   )\n",
    "metric = mean_money_precision_at_k(own_recs, target_df['actual'], df_prices)\n",
    "print(metric)"
   ]
  },
  {
   "cell_type": "markdown",
   "metadata": {},
   "source": [
    "**Что было протестировано (не вошло в ноутбук):**\n",
    "* пробовал менять веса в юзер-айтем матрице на сумму покупок (sum вместо count) и заменять quantity на sales_value. Эффекта не увидел, хотя, казалось, что 'sales_value' лучше отражает метрику\n",
    "* пробовал реализовать предсказания методами knn, но они оказались чересчур ресурсоемкими\n",
    "* настроил взвешивание, но это не дало больших результатов\n",
    "* пробовал по-разному менять структуру рекомендаций, использовать другие методы, тем не менее побороть порог в 20% не получилось. Двухуровневую модель построить не успел"
   ]
  },
  {
   "cell_type": "markdown",
   "metadata": {},
   "source": [
    "В финале уже выяснил, что дорогие товары сильно заваливают метрику. Один такой товар по стоимости часто эквивалентен сумме всех остальных товаров. Всвязи с этим, выбрал следующую структуру рекомендаций:"
   ]
  },
  {
   "cell_type": "markdown",
   "metadata": {},
   "source": [
    "**Финальная структура рекомендаций**"
   ]
  },
  {
   "cell_type": "markdown",
   "metadata": {},
   "source": [
    "Рекомендации производятся методом get_final_recommendations. После построения рекомендации для каждого юзера, она обязательно тестируется на удовлетворение бизнес-ограничений.\n",
    "* Сначала рекомендуется дорогой товар: если юзер ранее покупал дорогие товары, то рекомендуется самый популярный у юзера из них, если юзер холодный или у него нет в прошлых покупках дорогих товаров, тогда рекомендуем методом als, либо просто самый популярный дорогой товар\n",
    "* Далее рекомендуются 2 собственных товара обязательно дороже 2 долларов, чтобы выровнять метрику\n",
    "* После этого методом als рекомендуются 2 новых товара, которые юзер не покупал ранее, для этих товаров стоит ограничение, что они не должны быть дороже 2 долларов: с ними очень легко промахнуться и качество рекомендаций таких товаров не очень хорошее, поэтомуискуственно снижаю их суммарную стоимость."
   ]
  },
  {
   "cell_type": "markdown",
   "metadata": {},
   "source": [
    "**Метрика на валидации**"
   ]
  },
  {
   "cell_type": "code",
   "execution_count": 72,
   "metadata": {},
   "outputs": [],
   "source": [
    "data = pd.read_csv('./raw_data/retail_train.csv')\n",
    "item_features = pd.read_csv('./raw_data/product.csv')\n",
    "user_features = pd.read_csv('./raw_data/hh_demographic.csv')\n",
    "\n",
    "# column processing\n",
    "item_features.columns = [col.lower() for col in item_features.columns]\n",
    "user_features.columns = [col.lower() for col in user_features.columns]\n",
    "\n",
    "item_features.rename(columns={'product_id': 'item_id'}, inplace=True)\n",
    "user_features.rename(columns={'household_key': 'user_id'}, inplace=True)"
   ]
  },
  {
   "cell_type": "code",
   "execution_count": 73,
   "metadata": {},
   "outputs": [],
   "source": [
    "data_train = data.loc[(data['week_no'] <= data['week_no'].max() - test_size_weeks)]\n",
    "data_val = data.loc[(data['week_no'] > data['week_no'].max() - test_size_weeks)]"
   ]
  },
  {
   "cell_type": "code",
   "execution_count": 74,
   "metadata": {},
   "outputs": [],
   "source": [
    "target_df = data_val.groupby('user_id')['item_id'].unique().reset_index()\n",
    "target_df.columns=['user_id', 'actual']"
   ]
  },
  {
   "cell_type": "markdown",
   "metadata": {},
   "source": [
    "Запуск с лучшими параметрами, параметры изменены по сравнению с результатами предыдущего анализа (на тот момент там не были учтены бизнес ограничения)"
   ]
  },
  {
   "cell_type": "code",
   "execution_count": 75,
   "metadata": {
    "scrolled": true
   },
   "outputs": [
    {
     "name": "stdout",
     "output_type": "stream",
     "text": [
      "0.18824821288978708\n"
     ]
    }
   ],
   "source": [
    "data_train_prefiltered = prefilter_items(data_train, item_features, take_n_popular=12000,\n",
    "                                         filters={\n",
    "                                                  'top_notpopular': 0.0005,\n",
    "                                                  'cheaper_than': 1,\n",
    "                                                  'more_expensive_than': 20,\n",
    "                                                  'last_purchase_n_weeks_back': 40\n",
    "                                                 })\n",
    "\n",
    "\n",
    "df_prices = create_prices_df(data_train_prefiltered)\n",
    "recommender = MainRecommender(data_train_prefiltered, weighting='bm25', k=0.0001, b=0.01)\n",
    "recommender.als_model = recommender.fit_als(recommender.user_item_matrix, n_factors=8, regularization=0.01, \n",
    "                                            iterations=10)\n",
    "recommendations = recommender.get_final_recommendations(target_df['user_id'])\n",
    "\n",
    "final_recommendations_df = target_df\n",
    "final_recommendations_df['recommended'] = recommendations\n",
    "\n",
    "metric = mean_money_precision_at_k(final_recommendations_df['recommended'], \n",
    "                                   final_recommendations_df['actual'], df_prices)\n",
    "print(metric)"
   ]
  },
  {
   "cell_type": "markdown",
   "metadata": {},
   "source": [
    "**Метрика на паблике**"
   ]
  },
  {
   "cell_type": "code",
   "execution_count": 77,
   "metadata": {},
   "outputs": [],
   "source": [
    "data_public_train = pd.read_csv('./raw_data/retail_train.csv')\n",
    "item_features = pd.read_csv('./raw_data/product.csv')\n",
    "data_public_test = pd.read_csv('./raw_data/retail_test.csv')\n",
    "\n",
    "# column processing\n",
    "item_features.columns = [col.lower() for col in item_features.columns]\n",
    "user_features.columns = [col.lower() for col in user_features.columns]\n",
    "\n",
    "item_features.rename(columns={'product_id': 'item_id'}, inplace=True)\n",
    "user_features.rename(columns={'household_key': 'user_id'}, inplace=True)"
   ]
  },
  {
   "cell_type": "code",
   "execution_count": 78,
   "metadata": {},
   "outputs": [],
   "source": [
    "target_df = data_public_test.groupby('user_id')['item_id'].unique().reset_index()\n",
    "target_df.columns=['user_id', 'actual']"
   ]
  },
  {
   "cell_type": "code",
   "execution_count": 79,
   "metadata": {},
   "outputs": [
    {
     "name": "stdout",
     "output_type": "stream",
     "text": [
      "0.1872915798074465\n"
     ]
    }
   ],
   "source": [
    "data_public_train_prefiltered = prefilter_items(data_public_train, item_features, take_n_popular=12000,\n",
    "                                                filters={'top_notpopular': 0.0005,\n",
    "                                                         'cheaper_than': 1,\n",
    "                                                         'more_expensive_than': 20,\n",
    "                                                         'last_purchase_n_weeks_back': 40\n",
    "                                                        }\n",
    "                                               )\n",
    "\n",
    "\n",
    "df_prices = create_prices_df(data_public_train_prefiltered)\n",
    "recommender = MainRecommender(data_public_train_prefiltered, weighting='bm25', k=0.0001, b=0.01)\n",
    "recommender.als_model = recommender.fit_als(recommender.user_item_matrix, n_factors=8, regularization=0.01, \n",
    "                                            iterations=10)\n",
    "recommendations = recommender.get_final_recommendations(target_df['user_id'])\n",
    "\n",
    "final_recommendations_df = target_df\n",
    "final_recommendations_df['recommended'] = recommendations\n",
    "\n",
    "metric = mean_money_precision_at_k(final_recommendations_df['recommended'], \n",
    "                                   final_recommendations_df['actual'], df_prices)\n",
    "print(metric)"
   ]
  },
  {
   "cell_type": "code",
   "execution_count": 80,
   "metadata": {},
   "outputs": [],
   "source": [
    "to_save_df = final_recommendations_df[['user_id', 'recommended']]\n",
    "to_save_df.to_csv('results.csv', index=False)"
   ]
  }
 ],
 "metadata": {
  "kernelspec": {
   "display_name": "Python 3",
   "language": "python",
   "name": "python3"
  },
  "language_info": {
   "codemirror_mode": {
    "name": "ipython",
    "version": 3
   },
   "file_extension": ".py",
   "mimetype": "text/x-python",
   "name": "python",
   "nbconvert_exporter": "python",
   "pygments_lexer": "ipython3",
   "version": "3.8.3"
  }
 },
 "nbformat": 4,
 "nbformat_minor": 4
}
