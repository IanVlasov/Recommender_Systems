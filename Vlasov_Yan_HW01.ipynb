{
  "nbformat": 4,
  "nbformat_minor": 0,
  "metadata": {
    "kernelspec": {
      "display_name": "Python 3",
      "language": "python",
      "name": "python3"
    },
    "language_info": {
      "codemirror_mode": {
        "name": "ipython",
        "version": 3
      },
      "file_extension": ".py",
      "mimetype": "text/x-python",
      "name": "python",
      "nbconvert_exporter": "python",
      "pygments_lexer": "ipython3",
      "version": "3.7.3"
    },
    "colab": {
      "name": "Vlasov_Yan_HW01.ipynb",
      "provenance": [],
      "include_colab_link": true
    }
  },
  "cells": [
    {
      "cell_type": "markdown",
      "metadata": {
        "id": "view-in-github",
        "colab_type": "text"
      },
      "source": [
        "<a href=\"https://colab.research.google.com/github/IanVlasov/Recommender_Systems/blob/lesson_1/Vlasov_Yan_HW01.ipynb\" target=\"_parent\"><img src=\"https://colab.research.google.com/assets/colab-badge.svg\" alt=\"Open In Colab\"/></a>"
      ]
    },
    {
      "cell_type": "markdown",
      "metadata": {
        "id": "8Ir7r-MEvjmj",
        "colab_type": "text"
      },
      "source": [
        "# Домащнее задание - 1"
      ]
    },
    {
      "cell_type": "markdown",
      "metadata": {
        "id": "ycd-jjQqvjmj",
        "colab_type": "text"
      },
      "source": [
        "Заполните пропуски #your_code для функций ниже"
      ]
    },
    {
      "cell_type": "code",
      "metadata": {
        "id": "yM9ukgdRvjmk",
        "colab_type": "code",
        "colab": {}
      },
      "source": [
        "import numpy as np\n",
        "\n",
        "recommended_list = [143, 156, 1134, 991, 27, 1543, 3345, 533, 11, 43] #id товаров\n",
        "bought_list = [521, 32, 143, 991]\n",
        "\n",
        "prices_recommended = [100, 90, 10, 450, 50, 37, 99, 120, 34, 100]\n",
        "prices_bought = [110, 190, 100, 450]"
      ],
      "execution_count": 37,
      "outputs": []
    },
    {
      "cell_type": "code",
      "metadata": {
        "id": "SL9tYs5pvjmm",
        "colab_type": "code",
        "colab": {}
      },
      "source": [
        "def hit_rate_at_k(recommended_list, bought_list, k=5):\n",
        "    bought_list = np.array(bought_list)\n",
        "    recommended_list_k = np.array(recommended_list[:k])\n",
        "    \n",
        "    flags = np.isin(bought_list, recommended_list_k)\n",
        "    \n",
        "    hit_rate = (flags.sum() > 0) * 1\n",
        "    \n",
        "    return hit_rate"
      ],
      "execution_count": 4,
      "outputs": []
    },
    {
      "cell_type": "code",
      "metadata": {
        "id": "8XnwqS3f0OFm",
        "colab_type": "code",
        "colab": {
          "base_uri": "https://localhost:8080/",
          "height": 34
        },
        "outputId": "5e198841-9832-4eaa-8571-0592bf1c35ae"
      },
      "source": [
        "hit_rate_at_k(recommended_list, bought_list, 3)"
      ],
      "execution_count": 22,
      "outputs": [
        {
          "output_type": "execute_result",
          "data": {
            "text/plain": [
              "1"
            ]
          },
          "metadata": {
            "tags": []
          },
          "execution_count": 22
        }
      ]
    },
    {
      "cell_type": "code",
      "metadata": {
        "id": "gQ4-Dpmuvjmo",
        "colab_type": "code",
        "colab": {}
      },
      "source": [
        "def money_precision_at_k(recommended_list, bought_list, prices_recommended, k=5):\n",
        "        \n",
        "    bought_list = np.array(bought_list)\n",
        "    prices_recommended_k = np.array(prices_recommended[:k])\n",
        "    recommended_list_k = np.array(recommended_list[:k])\n",
        "    \n",
        "    flags = np.isin(recommended_list_k, bought_list)\n",
        "\n",
        "    revenue_of_rel_in_rec = np.dot(recommended_list_k[flags], \n",
        "                                 prices_recommended_k[flags])\n",
        "    \n",
        "    revenue_of_rec = np.dot(recommended_list_k, prices_recommended_k)\n",
        "    \n",
        "    money_precision = revenue_of_rel_in_rec / revenue_of_rec\n",
        "    \n",
        "    return money_precision"
      ],
      "execution_count": 18,
      "outputs": []
    },
    {
      "cell_type": "code",
      "metadata": {
        "id": "cEzIb9KR3ojl",
        "colab_type": "code",
        "colab": {
          "base_uri": "https://localhost:8080/",
          "height": 34
        },
        "outputId": "c66e740b-792f-4cf8-db55-782487775def"
      },
      "source": [
        "money_precision_at_k(recommended_list, bought_list, prices_recommended, 5)"
      ],
      "execution_count": 21,
      "outputs": [
        {
          "output_type": "execute_result",
          "data": {
            "text/plain": [
              "0.9451106821635386"
            ]
          },
          "metadata": {
            "tags": []
          },
          "execution_count": 21
        }
      ]
    },
    {
      "cell_type": "code",
      "metadata": {
        "id": "UpVocFcFvjmr",
        "colab_type": "code",
        "colab": {}
      },
      "source": [
        "def recall_at_k(recommended_list, bought_list, k=5):\n",
        "    \n",
        "    bought_list = np.array(bought_list)\n",
        "    recommended_list_k = np.array(recommended_list[:k])\n",
        "    \n",
        "    flags = np.isin(bought_list, recommended_list_k)\n",
        "    \n",
        "    recall = flags.sum() / len(bought_list)\n",
        "    \n",
        "    return recall\n",
        "\n",
        "\n",
        "def money_recall_at_k(recommended_list, bought_list, prices_recommended, prices_bought, k=5):\n",
        "    \n",
        "    bought_list = np.array(bought_list)\n",
        "    recommended_list_k = np.array(recommended_list[:k])\n",
        "    prices_bought = np.array(prices_bought)\n",
        "    \n",
        "    flags = np.isin(bought_list, recommended_list_k)\n",
        "\n",
        "    revenue_of_rel_in_rec = np.dot(bought_list[flags], prices_bought[flags])\n",
        "    revenue_of_rel = np.dot(bought_list, prices_bought)\n",
        "    \n",
        "    recall = revenue_of_rel_in_rec / revenue_of_rel\n",
        "    \n",
        "    return recall"
      ],
      "execution_count": 31,
      "outputs": []
    },
    {
      "cell_type": "code",
      "metadata": {
        "id": "qDBVEXkc6He8",
        "colab_type": "code",
        "colab": {
          "base_uri": "https://localhost:8080/",
          "height": 34
        },
        "outputId": "8d370c5c-030a-44f4-e264-41042e0c8f95"
      },
      "source": [
        "recall_at_k(recommended_list, bought_list, 5)"
      ],
      "execution_count": 29,
      "outputs": [
        {
          "output_type": "execute_result",
          "data": {
            "text/plain": [
              "0.5"
            ]
          },
          "metadata": {
            "tags": []
          },
          "execution_count": 29
        }
      ]
    },
    {
      "cell_type": "code",
      "metadata": {
        "id": "ou7MK4DX6TSe",
        "colab_type": "code",
        "colab": {
          "base_uri": "https://localhost:8080/",
          "height": 34
        },
        "outputId": "c672a992-7875-4e8d-ccbf-0fe32162ab86"
      },
      "source": [
        "money_recall_at_k(recommended_list, bought_list, prices_recommended, prices_bought, 5)"
      ],
      "execution_count": 32,
      "outputs": [
        {
          "output_type": "execute_result",
          "data": {
            "text/plain": [
              "0.8789435490031319"
            ]
          },
          "metadata": {
            "tags": []
          },
          "execution_count": 32
        }
      ]
    },
    {
      "cell_type": "code",
      "metadata": {
        "id": "_3NMKMF0vjmt",
        "colab_type": "code",
        "colab": {}
      },
      "source": [
        "def reciprocal_rank(recommended_list, bought_list):\n",
        "    bought_list = np.array(bought_list)\n",
        "    recommended_list = np.array(recommended_list)\n",
        "\n",
        "    flags = np.isin(recommended_list, bought_list)\n",
        "\n",
        "    indexes = np.where(flags == True)\n",
        "    if len(indexes) > 0 and len(indexes[0]) > 0:\n",
        "        rank = indexes[0][0] + 1\n",
        "    \n",
        "    return (1 / rank) if rank else 0"
      ],
      "execution_count": 38,
      "outputs": []
    },
    {
      "cell_type": "code",
      "metadata": {
        "id": "o3moPHQ195OZ",
        "colab_type": "code",
        "colab": {
          "base_uri": "https://localhost:8080/",
          "height": 34
        },
        "outputId": "d7840410-bccf-4c8f-fc60-be8c6996b2a3"
      },
      "source": [
        "reciprocal_rank(recommended_list, bought_list)"
      ],
      "execution_count": 39,
      "outputs": [
        {
          "output_type": "execute_result",
          "data": {
            "text/plain": [
              "1.0"
            ]
          },
          "metadata": {
            "tags": []
          },
          "execution_count": 39
        }
      ]
    },
    {
      "cell_type": "code",
      "metadata": {
        "id": "U2TAEyv098a_",
        "colab_type": "code",
        "colab": {}
      },
      "source": [
        "recommended_list = [156, 1134, 991, 27, 1543, 3345, 533, 11, 43] #удалил первый товар, теперь первый релевантный стоит на 3 месте\n",
        "bought_list = [521, 32, 143, 991]"
      ],
      "execution_count": 40,
      "outputs": []
    },
    {
      "cell_type": "code",
      "metadata": {
        "id": "p0-7RCXw_SWN",
        "colab_type": "code",
        "colab": {
          "base_uri": "https://localhost:8080/",
          "height": 34
        },
        "outputId": "70a1dabf-e80c-496e-88e0-9ebc42ce3afc"
      },
      "source": [
        "reciprocal_rank(recommended_list, bought_list)"
      ],
      "execution_count": 41,
      "outputs": [
        {
          "output_type": "execute_result",
          "data": {
            "text/plain": [
              "0.3333333333333333"
            ]
          },
          "metadata": {
            "tags": []
          },
          "execution_count": 41
        }
      ]
    },
    {
      "cell_type": "code",
      "metadata": {
        "id": "mnHoBYR1_TO3",
        "colab_type": "code",
        "colab": {}
      },
      "source": [
        ""
      ],
      "execution_count": null,
      "outputs": []
    }
  ]
}